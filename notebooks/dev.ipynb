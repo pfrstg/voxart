{
 "cells": [
  {
   "cell_type": "code",
   "execution_count": 1,
   "id": "a2dd8d43",
   "metadata": {},
   "outputs": [],
   "source": [
    "%load_ext autoreload\n",
    "%autoreload 2"
   ]
  },
  {
   "cell_type": "code",
   "execution_count": 2,
   "id": "6631c6d8",
   "metadata": {},
   "outputs": [],
   "source": [
    "import numpy as np\n",
    "import pandas as pd\n",
    "import matplotlib.pyplot as plt\n",
    "\n",
    "import voxart"
   ]
  },
  {
   "cell_type": "code",
   "execution_count": 22,
   "id": "03104a78",
   "metadata": {},
   "outputs": [
    {
     "name": "stdout",
     "output_type": "stream",
     "text": [
      "__name__ __main__\n",
      "__doc__ Automatically created module for IPython interactive environment\n",
      "__package__ None\n",
      "__loader__ None\n",
      "__spec__ None\n",
      "__builtin__ <module 'builtins' (built-in)>\n",
      "__builtins__ <module 'builtins' (built-in)>\n",
      "_ih ['', \"get_ipython().run_line_magic('load_ext', 'autoreload')\\nget_ipython().run_line_magic('autoreload', '2')\", 'import numpy as np\\nimport pandas as pd\\nimport matplotlib.pyplot as plt\\n\\nimport voxart', 'voxart.Masks(2)', 'voxart.Masks(2)', 'dir(voxart)', 'voxart.Masks(2)', 'voxart.__dir__', 'voxart.__dir__()', 'voxart.Masks(2)', 'voxart.Masks(2)', 'voxart.Masks()', 'voxart.Masks(1)', 'global()', 'globals()', 'voxart.Masks(1)', 'voxart.Masks(1)', 'voxart.Masks(1)', 'type(globals())', 'for k, v in globals().items():\\n    print(k, v)', 'for k, v in copy.copy(globals().items()):\\n    print(k, v)', 'import copy\\nfor k, v in copy.copy(globals().items()):\\n    print(k, v)', 'import copy\\nfor k, v in copy.copy(globals()).items():\\n    print(k, v)']\n",
      "_oh {3: <voxart.search.Masks object at 0x7fe2841c6df0>, 4: <voxart.search.Masks object at 0x7fe287e7de20>, 5: ['Callable', 'Design', 'Goal', 'Iterator', 'Masks', 'Optional', 'SearchResults', 'SearchResultsEntry', 'SearchStrategy', 'Tuple', '__builtins__', '__cached__', '__file__', '__loader__', '__name__', '__package__', '__path__', '__spec__', 'annotations', 'copy', 'dataclass', 'enum', 'field', 'functools', 'heapq', 'itertools', 'np', 'objective_value', 'pd', 'plt', 'search'], 6: <voxart.search.Masks object at 0x7fe287e85640>, 7: <built-in function __dir__>, 8: ['__name__', '__loader__', '__spec__', '__package__', '__path__', '__file__', '__cached__', '__builtins__', 'annotations', 'Iterator', 'Optional', 'Tuple', 'copy', 'itertools', 'np', 'pd', 'plt', 'Callable', 'dataclass', 'field', 'enum', 'functools', 'heapq', 'Masks', 'SearchResultsEntry', 'SearchResults', 'objective_value', 'SearchStrategy', 'search', 'Design', 'Goal'], 9: <voxart.search.Masks object at 0x7fe287e897c0>, 10: <voxart.search.Masks object at 0x7fe2841c6eb0>, 12: <voxart.search.Masks object at 0x7fe287ff9fd0>, 14: {'__name__': '__main__', '__doc__': 'Automatically created module for IPython interactive environment', '__package__': None, '__loader__': None, '__spec__': None, '__builtin__': <module 'builtins' (built-in)>, '__builtins__': <module 'builtins' (built-in)>, '_ih': ['', \"get_ipython().run_line_magic('load_ext', 'autoreload')\\nget_ipython().run_line_magic('autoreload', '2')\", 'import numpy as np\\nimport pandas as pd\\nimport matplotlib.pyplot as plt\\n\\nimport voxart', 'voxart.Masks(2)', 'voxart.Masks(2)', 'dir(voxart)', 'voxart.Masks(2)', 'voxart.__dir__', 'voxart.__dir__()', 'voxart.Masks(2)', 'voxart.Masks(2)', 'voxart.Masks()', 'voxart.Masks(1)', 'global()', 'globals()', 'voxart.Masks(1)', 'voxart.Masks(1)', 'voxart.Masks(1)', 'type(globals())', 'for k, v in globals().items():\\n    print(k, v)', 'for k, v in copy.copy(globals().items()):\\n    print(k, v)', 'import copy\\nfor k, v in copy.copy(globals().items()):\\n    print(k, v)', 'import copy\\nfor k, v in copy.copy(globals()).items():\\n    print(k, v)'], '_oh': {...}, '_dh': [PosixPath('/Users/priley/side_projects/voxart/notebooks')], 'In': ['', \"get_ipython().run_line_magic('load_ext', 'autoreload')\\nget_ipython().run_line_magic('autoreload', '2')\", 'import numpy as np\\nimport pandas as pd\\nimport matplotlib.pyplot as plt\\n\\nimport voxart', 'voxart.Masks(2)', 'voxart.Masks(2)', 'dir(voxart)', 'voxart.Masks(2)', 'voxart.__dir__', 'voxart.__dir__()', 'voxart.Masks(2)', 'voxart.Masks(2)', 'voxart.Masks()', 'voxart.Masks(1)', 'global()', 'globals()', 'voxart.Masks(1)', 'voxart.Masks(1)', 'voxart.Masks(1)', 'type(globals())', 'for k, v in globals().items():\\n    print(k, v)', 'for k, v in copy.copy(globals().items()):\\n    print(k, v)', 'import copy\\nfor k, v in copy.copy(globals().items()):\\n    print(k, v)', 'import copy\\nfor k, v in copy.copy(globals()).items():\\n    print(k, v)'], 'Out': {...}, 'get_ipython': <bound method InteractiveShell.get_ipython of <ipykernel.zmqshell.ZMQInteractiveShell object at 0x7fe2841679a0>>, 'exit': <IPython.core.autocall.ZMQExitAutocall object at 0x7fe2841776a0>, 'quit': <IPython.core.autocall.ZMQExitAutocall object at 0x7fe2841776a0>, 'open': <function open at 0x7fe281384dc0>, '_': <class 'dict'>, '__': <voxart.search.Masks object at 0x7fe287e4f130>, '___': <voxart.search.Masks object at 0x7fe2880eb940>, '_i': 'import copy\\nfor k, v in copy.copy(globals().items()):\\n    print(k, v)', '_ii': 'for k, v in copy.copy(globals().items()):\\n    print(k, v)', '_iii': 'for k, v in globals().items():\\n    print(k, v)', '_i1': '%load_ext autoreload\\n%autoreload 2', '_i2': 'import numpy as np\\nimport pandas as pd\\nimport matplotlib.pyplot as plt\\n\\nimport voxart', 'np': <module 'numpy' from '/Users/priley/Library/Caches/pypoetry/virtualenvs/voxart-19RljESw-py3.9/lib/python3.9/site-packages/numpy/__init__.py'>, 'pd': <module 'pandas' from '/Users/priley/Library/Caches/pypoetry/virtualenvs/voxart-19RljESw-py3.9/lib/python3.9/site-packages/pandas/__init__.py'>, 'plt': <module 'matplotlib.pyplot' from '/Users/priley/Library/Caches/pypoetry/virtualenvs/voxart-19RljESw-py3.9/lib/python3.9/site-packages/matplotlib/pyplot.py'>, 'voxart': <module 'voxart' from '/Users/priley/side_projects/voxart/voxart/__init__.py'>, '_i3': 'voxart.Masks(2)', '_3': <voxart.search.Masks object at 0x7fe2841c6df0>, '_i4': 'voxart.Masks(2)', '_4': <voxart.search.Masks object at 0x7fe287e7de20>, '_i5': 'dir(voxart)', '_5': ['Callable', 'Design', 'Goal', 'Iterator', 'Masks', 'Optional', 'SearchResults', 'SearchResultsEntry', 'SearchStrategy', 'Tuple', '__builtins__', '__cached__', '__file__', '__loader__', '__name__', '__package__', '__path__', '__spec__', 'annotations', 'copy', 'dataclass', 'enum', 'field', 'functools', 'heapq', 'itertools', 'np', 'objective_value', 'pd', 'plt', 'search'], '_i6': 'voxart.Masks(2)', '_6': <voxart.search.Masks object at 0x7fe287e85640>, '_i7': 'voxart.__dir__', '_7': <built-in function __dir__>, '_i8': 'voxart.__dir__()', '_8': ['__name__', '__loader__', '__spec__', '__package__', '__path__', '__file__', '__cached__', '__builtins__', 'annotations', 'Iterator', 'Optional', 'Tuple', 'copy', 'itertools', 'np', 'pd', 'plt', 'Callable', 'dataclass', 'field', 'enum', 'functools', 'heapq', 'Masks', 'SearchResultsEntry', 'SearchResults', 'objective_value', 'SearchStrategy', 'search', 'Design', 'Goal'], '_i9': 'voxart.Masks(2)', '_9': <voxart.search.Masks object at 0x7fe287e897c0>, '_i10': 'voxart.Masks(2)', '_10': <voxart.search.Masks object at 0x7fe2841c6eb0>, '_i11': 'voxart.Masks()', '_i12': 'voxart.Masks(1)', '_12': <voxart.search.Masks object at 0x7fe287ff9fd0>, '_i13': 'global()', '_i14': 'globals()', '_14': {...}, '_i15': 'voxart.Masks(1)', '_15': <voxart.search.Masks object at 0x7fe2881c2eb0>, '_i16': 'voxart.Masks(1)', '_16': <voxart.search.Masks object at 0x7fe2880eb940>, '_i17': 'voxart.Masks(1)', '_17': <voxart.search.Masks object at 0x7fe287e4f130>, '_i18': 'type(globals())', '_18': <class 'dict'>, '_i19': 'for k, v in globals().items():\\n    print(k, v)', 'k': '_oh', 'v': {...}, '_i20': 'for k, v in copy.copy(globals().items()):\\n    print(k, v)', '_i21': 'import copy\\nfor k, v in copy.copy(globals().items()):\\n    print(k, v)', 'copy': <module 'copy' from '/usr/local/anaconda3/lib/python3.9/copy.py'>, '_i22': 'import copy\\nfor k, v in copy.copy(globals()).items():\\n    print(k, v)'}, 15: <voxart.search.Masks object at 0x7fe2881c2eb0>, 16: <voxart.search.Masks object at 0x7fe2880eb940>, 17: <voxart.search.Masks object at 0x7fe287e4f130>, 18: <class 'dict'>}\n",
      "_dh [PosixPath('/Users/priley/side_projects/voxart/notebooks')]\n",
      "In ['', \"get_ipython().run_line_magic('load_ext', 'autoreload')\\nget_ipython().run_line_magic('autoreload', '2')\", 'import numpy as np\\nimport pandas as pd\\nimport matplotlib.pyplot as plt\\n\\nimport voxart', 'voxart.Masks(2)', 'voxart.Masks(2)', 'dir(voxart)', 'voxart.Masks(2)', 'voxart.__dir__', 'voxart.__dir__()', 'voxart.Masks(2)', 'voxart.Masks(2)', 'voxart.Masks()', 'voxart.Masks(1)', 'global()', 'globals()', 'voxart.Masks(1)', 'voxart.Masks(1)', 'voxart.Masks(1)', 'type(globals())', 'for k, v in globals().items():\\n    print(k, v)', 'for k, v in copy.copy(globals().items()):\\n    print(k, v)', 'import copy\\nfor k, v in copy.copy(globals().items()):\\n    print(k, v)', 'import copy\\nfor k, v in copy.copy(globals()).items():\\n    print(k, v)']\n",
      "Out {3: <voxart.search.Masks object at 0x7fe2841c6df0>, 4: <voxart.search.Masks object at 0x7fe287e7de20>, 5: ['Callable', 'Design', 'Goal', 'Iterator', 'Masks', 'Optional', 'SearchResults', 'SearchResultsEntry', 'SearchStrategy', 'Tuple', '__builtins__', '__cached__', '__file__', '__loader__', '__name__', '__package__', '__path__', '__spec__', 'annotations', 'copy', 'dataclass', 'enum', 'field', 'functools', 'heapq', 'itertools', 'np', 'objective_value', 'pd', 'plt', 'search'], 6: <voxart.search.Masks object at 0x7fe287e85640>, 7: <built-in function __dir__>, 8: ['__name__', '__loader__', '__spec__', '__package__', '__path__', '__file__', '__cached__', '__builtins__', 'annotations', 'Iterator', 'Optional', 'Tuple', 'copy', 'itertools', 'np', 'pd', 'plt', 'Callable', 'dataclass', 'field', 'enum', 'functools', 'heapq', 'Masks', 'SearchResultsEntry', 'SearchResults', 'objective_value', 'SearchStrategy', 'search', 'Design', 'Goal'], 9: <voxart.search.Masks object at 0x7fe287e897c0>, 10: <voxart.search.Masks object at 0x7fe2841c6eb0>, 12: <voxart.search.Masks object at 0x7fe287ff9fd0>, 14: {'__name__': '__main__', '__doc__': 'Automatically created module for IPython interactive environment', '__package__': None, '__loader__': None, '__spec__': None, '__builtin__': <module 'builtins' (built-in)>, '__builtins__': <module 'builtins' (built-in)>, '_ih': ['', \"get_ipython().run_line_magic('load_ext', 'autoreload')\\nget_ipython().run_line_magic('autoreload', '2')\", 'import numpy as np\\nimport pandas as pd\\nimport matplotlib.pyplot as plt\\n\\nimport voxart', 'voxart.Masks(2)', 'voxart.Masks(2)', 'dir(voxart)', 'voxart.Masks(2)', 'voxart.__dir__', 'voxart.__dir__()', 'voxart.Masks(2)', 'voxart.Masks(2)', 'voxart.Masks()', 'voxart.Masks(1)', 'global()', 'globals()', 'voxart.Masks(1)', 'voxart.Masks(1)', 'voxart.Masks(1)', 'type(globals())', 'for k, v in globals().items():\\n    print(k, v)', 'for k, v in copy.copy(globals().items()):\\n    print(k, v)', 'import copy\\nfor k, v in copy.copy(globals().items()):\\n    print(k, v)', 'import copy\\nfor k, v in copy.copy(globals()).items():\\n    print(k, v)'], '_oh': {...}, '_dh': [PosixPath('/Users/priley/side_projects/voxart/notebooks')], 'In': ['', \"get_ipython().run_line_magic('load_ext', 'autoreload')\\nget_ipython().run_line_magic('autoreload', '2')\", 'import numpy as np\\nimport pandas as pd\\nimport matplotlib.pyplot as plt\\n\\nimport voxart', 'voxart.Masks(2)', 'voxart.Masks(2)', 'dir(voxart)', 'voxart.Masks(2)', 'voxart.__dir__', 'voxart.__dir__()', 'voxart.Masks(2)', 'voxart.Masks(2)', 'voxart.Masks()', 'voxart.Masks(1)', 'global()', 'globals()', 'voxart.Masks(1)', 'voxart.Masks(1)', 'voxart.Masks(1)', 'type(globals())', 'for k, v in globals().items():\\n    print(k, v)', 'for k, v in copy.copy(globals().items()):\\n    print(k, v)', 'import copy\\nfor k, v in copy.copy(globals().items()):\\n    print(k, v)', 'import copy\\nfor k, v in copy.copy(globals()).items():\\n    print(k, v)'], 'Out': {...}, 'get_ipython': <bound method InteractiveShell.get_ipython of <ipykernel.zmqshell.ZMQInteractiveShell object at 0x7fe2841679a0>>, 'exit': <IPython.core.autocall.ZMQExitAutocall object at 0x7fe2841776a0>, 'quit': <IPython.core.autocall.ZMQExitAutocall object at 0x7fe2841776a0>, 'open': <function open at 0x7fe281384dc0>, '_': <class 'dict'>, '__': <voxart.search.Masks object at 0x7fe287e4f130>, '___': <voxart.search.Masks object at 0x7fe2880eb940>, '_i': 'import copy\\nfor k, v in copy.copy(globals().items()):\\n    print(k, v)', '_ii': 'for k, v in copy.copy(globals().items()):\\n    print(k, v)', '_iii': 'for k, v in globals().items():\\n    print(k, v)', '_i1': '%load_ext autoreload\\n%autoreload 2', '_i2': 'import numpy as np\\nimport pandas as pd\\nimport matplotlib.pyplot as plt\\n\\nimport voxart', 'np': <module 'numpy' from '/Users/priley/Library/Caches/pypoetry/virtualenvs/voxart-19RljESw-py3.9/lib/python3.9/site-packages/numpy/__init__.py'>, 'pd': <module 'pandas' from '/Users/priley/Library/Caches/pypoetry/virtualenvs/voxart-19RljESw-py3.9/lib/python3.9/site-packages/pandas/__init__.py'>, 'plt': <module 'matplotlib.pyplot' from '/Users/priley/Library/Caches/pypoetry/virtualenvs/voxart-19RljESw-py3.9/lib/python3.9/site-packages/matplotlib/pyplot.py'>, 'voxart': <module 'voxart' from '/Users/priley/side_projects/voxart/voxart/__init__.py'>, '_i3': 'voxart.Masks(2)', '_3': <voxart.search.Masks object at 0x7fe2841c6df0>, '_i4': 'voxart.Masks(2)', '_4': <voxart.search.Masks object at 0x7fe287e7de20>, '_i5': 'dir(voxart)', '_5': ['Callable', 'Design', 'Goal', 'Iterator', 'Masks', 'Optional', 'SearchResults', 'SearchResultsEntry', 'SearchStrategy', 'Tuple', '__builtins__', '__cached__', '__file__', '__loader__', '__name__', '__package__', '__path__', '__spec__', 'annotations', 'copy', 'dataclass', 'enum', 'field', 'functools', 'heapq', 'itertools', 'np', 'objective_value', 'pd', 'plt', 'search'], '_i6': 'voxart.Masks(2)', '_6': <voxart.search.Masks object at 0x7fe287e85640>, '_i7': 'voxart.__dir__', '_7': <built-in function __dir__>, '_i8': 'voxart.__dir__()', '_8': ['__name__', '__loader__', '__spec__', '__package__', '__path__', '__file__', '__cached__', '__builtins__', 'annotations', 'Iterator', 'Optional', 'Tuple', 'copy', 'itertools', 'np', 'pd', 'plt', 'Callable', 'dataclass', 'field', 'enum', 'functools', 'heapq', 'Masks', 'SearchResultsEntry', 'SearchResults', 'objective_value', 'SearchStrategy', 'search', 'Design', 'Goal'], '_i9': 'voxart.Masks(2)', '_9': <voxart.search.Masks object at 0x7fe287e897c0>, '_i10': 'voxart.Masks(2)', '_10': <voxart.search.Masks object at 0x7fe2841c6eb0>, '_i11': 'voxart.Masks()', '_i12': 'voxart.Masks(1)', '_12': <voxart.search.Masks object at 0x7fe287ff9fd0>, '_i13': 'global()', '_i14': 'globals()', '_14': {...}, '_i15': 'voxart.Masks(1)', '_15': <voxart.search.Masks object at 0x7fe2881c2eb0>, '_i16': 'voxart.Masks(1)', '_16': <voxart.search.Masks object at 0x7fe2880eb940>, '_i17': 'voxart.Masks(1)', '_17': <voxart.search.Masks object at 0x7fe287e4f130>, '_i18': 'type(globals())', '_18': <class 'dict'>, '_i19': 'for k, v in globals().items():\\n    print(k, v)', 'k': 'Out', 'v': {...}, '_i20': 'for k, v in copy.copy(globals().items()):\\n    print(k, v)', '_i21': 'import copy\\nfor k, v in copy.copy(globals().items()):\\n    print(k, v)', 'copy': <module 'copy' from '/usr/local/anaconda3/lib/python3.9/copy.py'>, '_i22': 'import copy\\nfor k, v in copy.copy(globals()).items():\\n    print(k, v)'}, 15: <voxart.search.Masks object at 0x7fe2881c2eb0>, 16: <voxart.search.Masks object at 0x7fe2880eb940>, 17: <voxart.search.Masks object at 0x7fe287e4f130>, 18: <class 'dict'>}\n",
      "get_ipython <bound method InteractiveShell.get_ipython of <ipykernel.zmqshell.ZMQInteractiveShell object at 0x7fe2841679a0>>\n",
      "exit <IPython.core.autocall.ZMQExitAutocall object at 0x7fe2841776a0>\n",
      "quit <IPython.core.autocall.ZMQExitAutocall object at 0x7fe2841776a0>\n",
      "open <function open at 0x7fe281384dc0>\n",
      "_ <class 'dict'>\n",
      "__ <voxart.search.Masks object at 0x7fe287e4f130>\n",
      "___ <voxart.search.Masks object at 0x7fe2880eb940>\n",
      "_i import copy\n",
      "for k, v in copy.copy(globals().items()):\n",
      "    print(k, v)\n",
      "_ii for k, v in copy.copy(globals().items()):\n",
      "    print(k, v)\n",
      "_iii for k, v in globals().items():\n",
      "    print(k, v)\n",
      "_i1 %load_ext autoreload\n",
      "%autoreload 2\n",
      "_i2 import numpy as np\n",
      "import pandas as pd\n",
      "import matplotlib.pyplot as plt\n",
      "\n",
      "import voxart\n",
      "np <module 'numpy' from '/Users/priley/Library/Caches/pypoetry/virtualenvs/voxart-19RljESw-py3.9/lib/python3.9/site-packages/numpy/__init__.py'>\n",
      "pd <module 'pandas' from '/Users/priley/Library/Caches/pypoetry/virtualenvs/voxart-19RljESw-py3.9/lib/python3.9/site-packages/pandas/__init__.py'>\n",
      "plt <module 'matplotlib.pyplot' from '/Users/priley/Library/Caches/pypoetry/virtualenvs/voxart-19RljESw-py3.9/lib/python3.9/site-packages/matplotlib/pyplot.py'>\n",
      "voxart <module 'voxart' from '/Users/priley/side_projects/voxart/voxart/__init__.py'>\n",
      "_i3 voxart.Masks(2)\n",
      "_3 <voxart.search.Masks object at 0x7fe2841c6df0>\n",
      "_i4 voxart.Masks(2)\n",
      "_4 <voxart.search.Masks object at 0x7fe287e7de20>\n",
      "_i5 dir(voxart)\n",
      "_5 ['Callable', 'Design', 'Goal', 'Iterator', 'Masks', 'Optional', 'SearchResults', 'SearchResultsEntry', 'SearchStrategy', 'Tuple', '__builtins__', '__cached__', '__file__', '__loader__', '__name__', '__package__', '__path__', '__spec__', 'annotations', 'copy', 'dataclass', 'enum', 'field', 'functools', 'heapq', 'itertools', 'np', 'objective_value', 'pd', 'plt', 'search']\n",
      "_i6 voxart.Masks(2)\n",
      "_6 <voxart.search.Masks object at 0x7fe287e85640>\n",
      "_i7 voxart.__dir__\n",
      "_7 <built-in function __dir__>\n",
      "_i8 voxart.__dir__()\n",
      "_8 ['__name__', '__loader__', '__spec__', '__package__', '__path__', '__file__', '__cached__', '__builtins__', 'annotations', 'Iterator', 'Optional', 'Tuple', 'copy', 'itertools', 'np', 'pd', 'plt', 'Callable', 'dataclass', 'field', 'enum', 'functools', 'heapq', 'Masks', 'SearchResultsEntry', 'SearchResults', 'objective_value', 'SearchStrategy', 'search', 'Design', 'Goal']\n",
      "_i9 voxart.Masks(2)\n",
      "_9 <voxart.search.Masks object at 0x7fe287e897c0>\n",
      "_i10 voxart.Masks(2)\n",
      "_10 <voxart.search.Masks object at 0x7fe2841c6eb0>\n",
      "_i11 voxart.Masks()\n",
      "_i12 voxart.Masks(1)\n",
      "_12 <voxart.search.Masks object at 0x7fe287ff9fd0>\n",
      "_i13 global()\n",
      "_i14 globals()\n",
      "_14 {'__name__': '__main__', '__doc__': 'Automatically created module for IPython interactive environment', '__package__': None, '__loader__': None, '__spec__': None, '__builtin__': <module 'builtins' (built-in)>, '__builtins__': <module 'builtins' (built-in)>, '_ih': ['', \"get_ipython().run_line_magic('load_ext', 'autoreload')\\nget_ipython().run_line_magic('autoreload', '2')\", 'import numpy as np\\nimport pandas as pd\\nimport matplotlib.pyplot as plt\\n\\nimport voxart', 'voxart.Masks(2)', 'voxart.Masks(2)', 'dir(voxart)', 'voxart.Masks(2)', 'voxart.__dir__', 'voxart.__dir__()', 'voxart.Masks(2)', 'voxart.Masks(2)', 'voxart.Masks()', 'voxart.Masks(1)', 'global()', 'globals()', 'voxart.Masks(1)', 'voxart.Masks(1)', 'voxart.Masks(1)', 'type(globals())', 'for k, v in globals().items():\\n    print(k, v)', 'for k, v in copy.copy(globals().items()):\\n    print(k, v)', 'import copy\\nfor k, v in copy.copy(globals().items()):\\n    print(k, v)', 'import copy\\nfor k, v in copy.copy(globals()).items():\\n    print(k, v)'], '_oh': {3: <voxart.search.Masks object at 0x7fe2841c6df0>, 4: <voxart.search.Masks object at 0x7fe287e7de20>, 5: ['Callable', 'Design', 'Goal', 'Iterator', 'Masks', 'Optional', 'SearchResults', 'SearchResultsEntry', 'SearchStrategy', 'Tuple', '__builtins__', '__cached__', '__file__', '__loader__', '__name__', '__package__', '__path__', '__spec__', 'annotations', 'copy', 'dataclass', 'enum', 'field', 'functools', 'heapq', 'itertools', 'np', 'objective_value', 'pd', 'plt', 'search'], 6: <voxart.search.Masks object at 0x7fe287e85640>, 7: <built-in function __dir__>, 8: ['__name__', '__loader__', '__spec__', '__package__', '__path__', '__file__', '__cached__', '__builtins__', 'annotations', 'Iterator', 'Optional', 'Tuple', 'copy', 'itertools', 'np', 'pd', 'plt', 'Callable', 'dataclass', 'field', 'enum', 'functools', 'heapq', 'Masks', 'SearchResultsEntry', 'SearchResults', 'objective_value', 'SearchStrategy', 'search', 'Design', 'Goal'], 9: <voxart.search.Masks object at 0x7fe287e897c0>, 10: <voxart.search.Masks object at 0x7fe2841c6eb0>, 12: <voxart.search.Masks object at 0x7fe287ff9fd0>, 14: {...}, 15: <voxart.search.Masks object at 0x7fe2881c2eb0>, 16: <voxart.search.Masks object at 0x7fe2880eb940>, 17: <voxart.search.Masks object at 0x7fe287e4f130>, 18: <class 'dict'>}, '_dh': [PosixPath('/Users/priley/side_projects/voxart/notebooks')], 'In': ['', \"get_ipython().run_line_magic('load_ext', 'autoreload')\\nget_ipython().run_line_magic('autoreload', '2')\", 'import numpy as np\\nimport pandas as pd\\nimport matplotlib.pyplot as plt\\n\\nimport voxart', 'voxart.Masks(2)', 'voxart.Masks(2)', 'dir(voxart)', 'voxart.Masks(2)', 'voxart.__dir__', 'voxart.__dir__()', 'voxart.Masks(2)', 'voxart.Masks(2)', 'voxart.Masks()', 'voxart.Masks(1)', 'global()', 'globals()', 'voxart.Masks(1)', 'voxart.Masks(1)', 'voxart.Masks(1)', 'type(globals())', 'for k, v in globals().items():\\n    print(k, v)', 'for k, v in copy.copy(globals().items()):\\n    print(k, v)', 'import copy\\nfor k, v in copy.copy(globals().items()):\\n    print(k, v)', 'import copy\\nfor k, v in copy.copy(globals()).items():\\n    print(k, v)'], 'Out': {3: <voxart.search.Masks object at 0x7fe2841c6df0>, 4: <voxart.search.Masks object at 0x7fe287e7de20>, 5: ['Callable', 'Design', 'Goal', 'Iterator', 'Masks', 'Optional', 'SearchResults', 'SearchResultsEntry', 'SearchStrategy', 'Tuple', '__builtins__', '__cached__', '__file__', '__loader__', '__name__', '__package__', '__path__', '__spec__', 'annotations', 'copy', 'dataclass', 'enum', 'field', 'functools', 'heapq', 'itertools', 'np', 'objective_value', 'pd', 'plt', 'search'], 6: <voxart.search.Masks object at 0x7fe287e85640>, 7: <built-in function __dir__>, 8: ['__name__', '__loader__', '__spec__', '__package__', '__path__', '__file__', '__cached__', '__builtins__', 'annotations', 'Iterator', 'Optional', 'Tuple', 'copy', 'itertools', 'np', 'pd', 'plt', 'Callable', 'dataclass', 'field', 'enum', 'functools', 'heapq', 'Masks', 'SearchResultsEntry', 'SearchResults', 'objective_value', 'SearchStrategy', 'search', 'Design', 'Goal'], 9: <voxart.search.Masks object at 0x7fe287e897c0>, 10: <voxart.search.Masks object at 0x7fe2841c6eb0>, 12: <voxart.search.Masks object at 0x7fe287ff9fd0>, 14: {...}, 15: <voxart.search.Masks object at 0x7fe2881c2eb0>, 16: <voxart.search.Masks object at 0x7fe2880eb940>, 17: <voxart.search.Masks object at 0x7fe287e4f130>, 18: <class 'dict'>}, 'get_ipython': <bound method InteractiveShell.get_ipython of <ipykernel.zmqshell.ZMQInteractiveShell object at 0x7fe2841679a0>>, 'exit': <IPython.core.autocall.ZMQExitAutocall object at 0x7fe2841776a0>, 'quit': <IPython.core.autocall.ZMQExitAutocall object at 0x7fe2841776a0>, 'open': <function open at 0x7fe281384dc0>, '_': <class 'dict'>, '__': <voxart.search.Masks object at 0x7fe287e4f130>, '___': <voxart.search.Masks object at 0x7fe2880eb940>, '_i': 'import copy\\nfor k, v in copy.copy(globals().items()):\\n    print(k, v)', '_ii': 'for k, v in copy.copy(globals().items()):\\n    print(k, v)', '_iii': 'for k, v in globals().items():\\n    print(k, v)', '_i1': '%load_ext autoreload\\n%autoreload 2', '_i2': 'import numpy as np\\nimport pandas as pd\\nimport matplotlib.pyplot as plt\\n\\nimport voxart', 'np': <module 'numpy' from '/Users/priley/Library/Caches/pypoetry/virtualenvs/voxart-19RljESw-py3.9/lib/python3.9/site-packages/numpy/__init__.py'>, 'pd': <module 'pandas' from '/Users/priley/Library/Caches/pypoetry/virtualenvs/voxart-19RljESw-py3.9/lib/python3.9/site-packages/pandas/__init__.py'>, 'plt': <module 'matplotlib.pyplot' from '/Users/priley/Library/Caches/pypoetry/virtualenvs/voxart-19RljESw-py3.9/lib/python3.9/site-packages/matplotlib/pyplot.py'>, 'voxart': <module 'voxart' from '/Users/priley/side_projects/voxart/voxart/__init__.py'>, '_i3': 'voxart.Masks(2)', '_3': <voxart.search.Masks object at 0x7fe2841c6df0>, '_i4': 'voxart.Masks(2)', '_4': <voxart.search.Masks object at 0x7fe287e7de20>, '_i5': 'dir(voxart)', '_5': ['Callable', 'Design', 'Goal', 'Iterator', 'Masks', 'Optional', 'SearchResults', 'SearchResultsEntry', 'SearchStrategy', 'Tuple', '__builtins__', '__cached__', '__file__', '__loader__', '__name__', '__package__', '__path__', '__spec__', 'annotations', 'copy', 'dataclass', 'enum', 'field', 'functools', 'heapq', 'itertools', 'np', 'objective_value', 'pd', 'plt', 'search'], '_i6': 'voxart.Masks(2)', '_6': <voxart.search.Masks object at 0x7fe287e85640>, '_i7': 'voxart.__dir__', '_7': <built-in function __dir__>, '_i8': 'voxart.__dir__()', '_8': ['__name__', '__loader__', '__spec__', '__package__', '__path__', '__file__', '__cached__', '__builtins__', 'annotations', 'Iterator', 'Optional', 'Tuple', 'copy', 'itertools', 'np', 'pd', 'plt', 'Callable', 'dataclass', 'field', 'enum', 'functools', 'heapq', 'Masks', 'SearchResultsEntry', 'SearchResults', 'objective_value', 'SearchStrategy', 'search', 'Design', 'Goal'], '_i9': 'voxart.Masks(2)', '_9': <voxart.search.Masks object at 0x7fe287e897c0>, '_i10': 'voxart.Masks(2)', '_10': <voxart.search.Masks object at 0x7fe2841c6eb0>, '_i11': 'voxart.Masks()', '_i12': 'voxart.Masks(1)', '_12': <voxart.search.Masks object at 0x7fe287ff9fd0>, '_i13': 'global()', '_i14': 'globals()', '_14': {...}, '_i15': 'voxart.Masks(1)', '_15': <voxart.search.Masks object at 0x7fe2881c2eb0>, '_i16': 'voxart.Masks(1)', '_16': <voxart.search.Masks object at 0x7fe2880eb940>, '_i17': 'voxart.Masks(1)', '_17': <voxart.search.Masks object at 0x7fe287e4f130>, '_i18': 'type(globals())', '_18': <class 'dict'>, '_i19': 'for k, v in globals().items():\\n    print(k, v)', 'k': '_14', 'v': {...}, '_i20': 'for k, v in copy.copy(globals().items()):\\n    print(k, v)', '_i21': 'import copy\\nfor k, v in copy.copy(globals().items()):\\n    print(k, v)', 'copy': <module 'copy' from '/usr/local/anaconda3/lib/python3.9/copy.py'>, '_i22': 'import copy\\nfor k, v in copy.copy(globals()).items():\\n    print(k, v)'}\n",
      "_i15 voxart.Masks(1)\n",
      "_15 <voxart.search.Masks object at 0x7fe2881c2eb0>\n",
      "_i16 voxart.Masks(1)\n",
      "_16 <voxart.search.Masks object at 0x7fe2880eb940>\n",
      "_i17 voxart.Masks(1)\n",
      "_17 <voxart.search.Masks object at 0x7fe287e4f130>\n",
      "_i18 type(globals())\n",
      "_18 <class 'dict'>\n",
      "_i19 for k, v in globals().items():\n",
      "    print(k, v)\n",
      "k __name__\n",
      "v __main__\n",
      "_i20 for k, v in copy.copy(globals().items()):\n",
      "    print(k, v)\n",
      "_i21 import copy\n",
      "for k, v in copy.copy(globals().items()):\n",
      "    print(k, v)\n",
      "copy <module 'copy' from '/usr/local/anaconda3/lib/python3.9/copy.py'>\n",
      "_i22 import copy\n",
      "for k, v in copy.copy(globals()).items():\n",
      "    print(k, v)\n"
     ]
    }
   ],
   "source": [
    "import copy\n",
    "for k, v in copy.copy(globals()).items():\n",
    "    print(k, v)"
   ]
  },
  {
   "cell_type": "code",
   "execution_count": 3,
   "id": "6fd5dfea",
   "metadata": {},
   "outputs": [
    {
     "data": {
      "text/plain": [
       "116"
      ]
     },
     "metadata": {},
     "output_type": "display_data"
    },
    {
     "data": {
      "text/plain": [
       "array([[[2, 2, 2, 2, 2, 2, 2],\n",
       "        [2, 0, 0, 0, 0, 0, 2],\n",
       "        [2, 0, 0, 0, 0, 0, 2],\n",
       "        [2, 0, 0, 0, 0, 0, 2],\n",
       "        [2, 0, 0, 0, 0, 0, 2],\n",
       "        [2, 0, 0, 0, 0, 0, 2],\n",
       "        [2, 2, 2, 2, 2, 2, 2]],\n",
       "\n",
       "       [[0, 0, 0, 0, 0, 0, 0],\n",
       "        [0, 0, 0, 0, 0, 0, 0],\n",
       "        [0, 0, 0, 0, 0, 0, 0],\n",
       "        [0, 0, 0, 0, 0, 0, 0],\n",
       "        [0, 0, 0, 0, 0, 0, 0],\n",
       "        [0, 0, 0, 0, 0, 0, 0],\n",
       "        [2, 0, 0, 0, 0, 0, 2]],\n",
       "\n",
       "       [[0, 0, 0, 0, 0, 0, 0],\n",
       "        [0, 0, 0, 0, 0, 0, 0],\n",
       "        [0, 0, 0, 0, 0, 0, 0],\n",
       "        [0, 0, 0, 0, 0, 0, 0],\n",
       "        [0, 0, 0, 0, 0, 0, 0],\n",
       "        [0, 0, 0, 0, 0, 0, 0],\n",
       "        [2, 0, 0, 0, 0, 0, 2]],\n",
       "\n",
       "       [[0, 0, 0, 0, 0, 0, 0],\n",
       "        [0, 0, 0, 0, 0, 0, 0],\n",
       "        [0, 0, 0, 0, 0, 0, 0],\n",
       "        [0, 0, 0, 0, 0, 0, 0],\n",
       "        [0, 0, 0, 0, 0, 0, 0],\n",
       "        [0, 0, 0, 0, 0, 0, 0],\n",
       "        [2, 0, 0, 0, 0, 0, 2]],\n",
       "\n",
       "       [[0, 0, 0, 0, 0, 0, 0],\n",
       "        [0, 0, 0, 0, 0, 0, 0],\n",
       "        [0, 0, 0, 0, 0, 0, 0],\n",
       "        [0, 0, 0, 0, 0, 0, 0],\n",
       "        [0, 0, 0, 0, 0, 0, 0],\n",
       "        [0, 0, 0, 0, 0, 0, 0],\n",
       "        [2, 0, 0, 0, 0, 0, 2]],\n",
       "\n",
       "       [[0, 0, 0, 0, 0, 0, 0],\n",
       "        [0, 0, 0, 0, 0, 0, 0],\n",
       "        [0, 0, 0, 0, 0, 0, 0],\n",
       "        [0, 0, 0, 0, 0, 0, 0],\n",
       "        [0, 0, 0, 0, 0, 0, 0],\n",
       "        [0, 0, 0, 0, 0, 0, 0],\n",
       "        [2, 0, 0, 0, 0, 0, 2]],\n",
       "\n",
       "       [[2, 2, 2, 2, 2, 2, 2],\n",
       "        [2, 0, 0, 0, 0, 0, 2],\n",
       "        [2, 0, 0, 0, 0, 0, 2],\n",
       "        [2, 0, 0, 0, 0, 0, 2],\n",
       "        [2, 0, 0, 0, 0, 0, 2],\n",
       "        [2, 0, 0, 0, 0, 0, 2],\n",
       "        [2, 2, 2, 2, 2, 2, 2]]])"
      ]
     },
     "execution_count": 3,
     "metadata": {},
     "output_type": "execute_result"
    }
   ],
   "source": [
    "test_vox2 = voxart.Design.from_size(7)\n",
    "for i in [0, 6]:\n",
    "    test_vox2.vox[i, 0, :] = voxart.FILLED\n",
    "    test_vox2.vox[i, 6, :] = voxart.FILLED\n",
    "    test_vox2.vox[i, :, 0] = voxart.FILLED\n",
    "    test_vox2.vox[i, :, 6] = voxart.FILLED\n",
    "for i in [6]:\n",
    "    test_vox2.vox[0, i, :] = voxart.FILLED\n",
    "    test_vox2.vox[6, i, :] = voxart.FILLED\n",
    "    test_vox2.vox[:, i, 0] = voxart.FILLED\n",
    "    test_vox2.vox[:, i, 6] = voxart.FILLED\n",
    "display(test_vox2.vox.sum())\n",
    "test_vox2._vox"
   ]
  },
  {
   "cell_type": "code",
   "execution_count": 6,
   "id": "c31ba7ea",
   "metadata": {},
   "outputs": [
    {
     "data": {
      "image/png": "[encoded data removed]",
      "text/plain": [
       "<Figure size 600x200 with 3 Axes>"
      ]
     },
     "execution_count": 6,
     "metadata": {},
     "output_type": "execute_result"
    }
   ],
   "source": [
    "test_vox2.projections_fig()"
   ]
  },
  {
   "cell_type": "code",
   "execution_count": 7,
   "id": "ca7c6b12",
   "metadata": {},
   "outputs": [
    {
     "data": {
      "image/png": "[encoded data removed]",
      "text/plain": [
       "<Figure size 1400x600 with 21 Axes>"
      ]
     },
     "execution_count": 7,
     "metadata": {},
     "output_type": "execute_result"
    }
   ],
   "source": [
    "test_vox2.slices_fig()"
   ]
  },
  {
   "cell_type": "code",
   "execution_count": 8,
   "id": "39411a30",
   "metadata": {},
   "outputs": [
    {
     "data": {
      "image/png": "[encoded data removed]",
      "text/plain": [
       "<Figure size 600x200 with 3 Axes>"
      ]
     },
     "execution_count": 8,
     "metadata": {},
     "output_type": "execute_result"
    }
   ],
   "source": [
    "g = voxart.Goal.from_size(7)\n",
    "g.add_frame()\n",
    "g.fig()"
   ]
  },
  {
   "cell_type": "code",
   "execution_count": 9,
   "id": "a309660d",
   "metadata": {},
   "outputs": [
    {
     "data": {
      "image/png": "[encoded data removed]",
      "text/plain": [
       "<Figure size 600x200 with 3 Axes>"
      ]
     },
     "metadata": {},
     "output_type": "display_data"
    },
    {
     "data": {
      "image/png": "[encoded data removed]",
      "text/plain": [
       "<Figure size 600x200 with 3 Axes>"
      ]
     },
     "metadata": {},
     "output_type": "display_data"
    }
   ],
   "source": [
    "test_goal = voxart.Goal.from_arrays(\n",
    "    [[0, 0, 0, 0, 0, 0, 0,],\n",
    "     [0, 2, 0, 0, 0, 2, 0,],\n",
    "     [0, 0, 2, 0, 2, 0, 0,],\n",
    "     [0, 0, 0, 2, 0, 0, 0,],\n",
    "     [0, 0, 2, 0, 2, 0, 0,],\n",
    "     [0, 2, 0, 0, 0, 2, 0,],\n",
    "     [0, 0, 0, 0, 0, 0, 0,],\n",
    "    ],\n",
    "    [[0, 0, 0, 0, 0, 0, 0,],\n",
    "     [0, 2, 0, 0, 0, 2, 0,],\n",
    "     [0, 0, 2, 0, 2, 0, 0,],\n",
    "     [0, 0, 0, 2, 0, 0, 0,],\n",
    "     [0, 0, 0, 2, 0, 0, 0,],\n",
    "     [0, 0, 0, 2, 0, 0, 0,],\n",
    "     [0, 0, 0, 0, 0, 0, 0,],\n",
    "    ],\n",
    "    [[0, 0, 0, 0, 0, 0, 0,],\n",
    "     [0, 2, 2, 2, 2, 2, 0,],\n",
    "     [0, 0, 0, 0, 2, 0, 0,],\n",
    "     [0, 0, 0, 2, 0, 0, 0,],\n",
    "     [0, 0, 2, 0, 0, 0, 0,],\n",
    "     [0, 2, 2, 2, 2, 2, 0,],\n",
    "     [0, 0, 0, 0, 0, 0, 0,],\n",
    "    ],\n",
    ")\n",
    "display(test_goal.fig())\n",
    "test_goal.add_frame()\n",
    "display(test_goal.fig())"
   ]
  },
  {
   "cell_type": "code",
   "execution_count": 11,
   "id": "76213e1f",
   "metadata": {},
   "outputs": [
    {
     "data": {
      "image/png": "[encoded data removed]",
      "text/plain": [
       "<Figure size 600x200 with 3 Axes>"
      ]
     },
     "metadata": {},
     "output_type": "display_data"
    },
    {
     "data": {
      "image/png": "[encoded data removed]",
      "text/plain": [
       "<Figure size 600x200 with 3 Axes>"
      ]
     },
     "metadata": {},
     "output_type": "display_data"
    },
    {
     "data": {
      "image/png": "[encoded data removed]",
      "text/plain": [
       "<Figure size 600x200 with 3 Axes>"
      ]
     },
     "metadata": {},
     "output_type": "display_data"
    },
    {
     "data": {
      "image/png": "[encoded data removed]",
      "text/plain": [
       "<Figure size 600x200 with 3 Axes>"
      ]
     },
     "metadata": {},
     "output_type": "display_data"
    },
    {
     "data": {
      "image/png": "[encoded data removed]",
      "text/plain": [
       "<Figure size 600x200 with 3 Axes>"
      ]
     },
     "metadata": {},
     "output_type": "display_data"
    },
    {
     "data": {
      "image/png": "[encoded data removed]",
      "text/plain": [
       "<Figure size 600x200 with 3 Axes>"
      ]
     },
     "metadata": {},
     "output_type": "display_data"
    },
    {
     "data": {
      "image/png": "[encoded data removed]",
      "text/plain": [
       "<Figure size 600x200 with 3 Axes>"
      ]
     },
     "metadata": {},
     "output_type": "display_data"
    },
    {
     "data": {
      "image/png": "[encoded data removed]",
      "text/plain": [
       "<Figure size 600x200 with 3 Axes>"
      ]
     },
     "metadata": {},
     "output_type": "display_data"
    },
    {
     "data": {
      "image/png": "[encoded data removed]",
      "text/plain": [
       "<Figure size 600x200 with 3 Axes>"
      ]
     },
     "metadata": {},
     "output_type": "display_data"
    },
    {
     "data": {
      "image/png": "[encoded data removed]",
      "text/plain": [
       "<Figure size 600x200 with 3 Axes>"
      ]
     },
     "metadata": {},
     "output_type": "display_data"
    },
    {
     "data": {
      "image/png": "[encoded data removed]",
      "text/plain": [
       "<Figure size 600x200 with 3 Axes>"
      ]
     },
     "metadata": {},
     "output_type": "display_data"
    },
    {
     "data": {
      "image/png": "[encoded data removed]",
      "text/plain": [
       "<Figure size 600x200 with 3 Axes>"
      ]
     },
     "metadata": {},
     "output_type": "display_data"
    },
    {
     "data": {
      "image/png": "[encoded data removed]",
      "text/plain": [
       "<Figure size 600x200 with 3 Axes>"
      ]
     },
     "metadata": {},
     "output_type": "display_data"
    },
    {
     "data": {
      "image/png": "[encoded data removed]",
      "text/plain": [
       "<Figure size 600x200 with 3 Axes>"
      ]
     },
     "metadata": {},
     "output_type": "display_data"
    },
    {
     "data": {
      "image/png": "[encoded data removed]",
      "text/plain": [
       "<Figure size 600x200 with 3 Axes>"
      ]
     },
     "metadata": {},
     "output_type": "display_data"
    },
    {
     "data": {
      "image/png": "[encoded data removed]",
      "text/plain": [
       "<Figure size 600x200 with 3 Axes>"
      ]
     },
     "metadata": {},
     "output_type": "display_data"
    }
   ],
   "source": [
    "for g in test_goal.alternate_forms():\n",
    "    display(g.fig())"
   ]
  },
  {
   "cell_type": "code",
   "execution_count": 12,
   "id": "5593fa3c",
   "metadata": {},
   "outputs": [
    {
     "data": {
      "image/png": "[encoded data removed]",
      "text/plain": [
       "<Figure size 600x200 with 3 Axes>"
      ]
     },
     "metadata": {},
     "output_type": "display_data"
    },
    {
     "data": {
      "text/plain": [
       "268"
      ]
     },
     "metadata": {},
     "output_type": "display_data"
    }
   ],
   "source": [
    "design = test_goal.create_base_design()\n",
    "display(design.projections_fig())\n",
    "display(design.vox.sum())"
   ]
  },
  {
   "cell_type": "code",
   "execution_count": 13,
   "id": "c499ae0f",
   "metadata": {},
   "outputs": [
    {
     "data": {
      "image/png": "[encoded data removed]",
      "text/plain": [
       "<Figure size 600x200 with 3 Axes>"
      ]
     },
     "metadata": {},
     "output_type": "display_data"
    },
    {
     "data": {
      "image/png": "[encoded data removed]",
      "text/plain": [
       "<Figure size 1400x600 with 21 Axes>"
      ]
     },
     "metadata": {},
     "output_type": "display_data"
    }
   ],
   "source": [
    "y, z = np.where(test_goal._goals[0] == 0)\n",
    "design.vox[:, y, z] = 0\n",
    "x, z = np.where(test_goal._goals[1] == 0)\n",
    "design.vox[x, :, z] = 0\n",
    "x, y = np.where(test_goal._goals[2] == 0)\n",
    "design.vox[x, y, :] = 0\n",
    "display(design.projections_fig())\n",
    "display(design.slices_fig())"
   ]
  },
  {
   "cell_type": "code",
   "execution_count": 14,
   "id": "f5b47a07",
   "metadata": {},
   "outputs": [
    {
     "data": {
      "image/png": "[encoded data removed]",
      "text/plain": [
       "<Figure size 600x200 with 3 Axes>"
      ]
     },
     "metadata": {},
     "output_type": "display_data"
    },
    {
     "data": {
      "image/png": "[encoded data removed]",
      "text/plain": [
       "<Figure size 1400x600 with 21 Axes>"
      ]
     },
     "metadata": {},
     "output_type": "display_data"
    },
    {
     "data": {
      "text/plain": [
       "268"
      ]
     },
     "metadata": {},
     "output_type": "display_data"
    }
   ],
   "source": [
    "design2 = test_goal.create_base_design()\n",
    "display(design2.projections_fig())\n",
    "display(design2.slices_fig())\n",
    "display(design2.vox.sum())"
   ]
  },
  {
   "cell_type": "code",
   "execution_count": 15,
   "id": "9dc9832f",
   "metadata": {},
   "outputs": [
    {
     "data": {
      "text/plain": [
       "<voxart.search.Masks at 0x7f8c5c253c70>"
      ]
     },
     "execution_count": 15,
     "metadata": {},
     "output_type": "execute_result"
    }
   ],
   "source": [
    "voxart.Masks(4)"
   ]
  },
  {
   "cell_type": "markdown",
   "id": "42e58532",
   "metadata": {},
   "source": [
    "## find_removable"
   ]
  },
  {
   "cell_type": "code",
   "execution_count": 16,
   "id": "e3d20176",
   "metadata": {},
   "outputs": [
    {
     "data": {
      "image/png": "[encoded data removed]",
      "text/plain": [
       "<Figure size 600x200 with 3 Axes>"
      ]
     },
     "metadata": {},
     "output_type": "display_data"
    },
    {
     "data": {
      "image/png": "[encoded data removed]",
      "text/plain": [
       "<Figure size 1800x600 with 27 Axes>"
      ]
     },
     "metadata": {},
     "output_type": "display_data"
    }
   ],
   "source": [
    "test_goal = voxart.Goal.from_arrays(\n",
    "    np.pad(\n",
    "    [[0, 0, 0, 0, 0, 0, 0,],\n",
    "     [0, 2, 0, 0, 0, 2, 0,],\n",
    "     [0, 0, 2, 0, 2, 0, 0,],\n",
    "     [0, 0, 0, 2, 0, 0, 0,],\n",
    "     [0, 0, 2, 0, 2, 0, 0,],\n",
    "     [0, 2, 0, 0, 0, 2, 0,],\n",
    "     [0, 0, 0, 0, 0, 0, 0,],\n",
    "    ],\n",
    "    pad_width=1, mode='constant', constant_values=0),\n",
    "    np.pad(\n",
    "    [[0, 0, 0, 0, 0, 0, 0,],\n",
    "     [0, 2, 0, 0, 0, 2, 0,],\n",
    "     [0, 0, 2, 0, 2, 0, 0,],\n",
    "     [0, 0, 0, 2, 0, 0, 0,],\n",
    "     [0, 0, 0, 2, 0, 0, 0,],\n",
    "     [0, 0, 0, 2, 0, 0, 0,],\n",
    "     [0, 0, 0, 0, 0, 0, 0,],\n",
    "    ],\n",
    "    pad_width=1, mode='constant', constant_values=0),\n",
    "    np.pad(\n",
    "    [[0, 0, 0, 0, 0, 0, 0,],\n",
    "     [0, 2, 2, 2, 2, 2, 0,],\n",
    "     [0, 0, 0, 0, 2, 0, 0,],\n",
    "     [0, 0, 0, 2, 0, 0, 0,],\n",
    "     [0, 0, 2, 0, 0, 0, 0,],\n",
    "     [0, 2, 2, 2, 2, 2, 0,],\n",
    "     [0, 0, 0, 0, 0, 0, 0,],\n",
    "    ],\n",
    "    pad_width=1, mode='constant', constant_values=0)\n",
    ")\n",
    "#display(test_goal.fig())\n",
    "test_goal.add_frame()\n",
    "display(test_goal.fig())\n",
    "design = test_goal.create_base_design()\n",
    "display(design.slices_fig())"
   ]
  },
  {
   "cell_type": "code",
   "execution_count": 18,
   "id": "9f3ab319",
   "metadata": {},
   "outputs": [
    {
     "data": {
      "image/png": "[encoded data removed]",
      "text/plain": [
       "<Figure size 1800x600 with 27 Axes>"
      ]
     },
     "execution_count": 18,
     "metadata": {},
     "output_type": "execute_result"
    }
   ],
   "source": [
    "voxart.Design(design.find_removable_slow() * 2).slices_fig()"
   ]
  },
  {
   "cell_type": "code",
   "execution_count": 19,
   "id": "d9fa74d7",
   "metadata": {},
   "outputs": [
    {
     "data": {
      "image/png": "[encoded data removed]",
      "text/plain": [
       "<Figure size 1800x600 with 27 Axes>"
      ]
     },
     "execution_count": 19,
     "metadata": {},
     "output_type": "execute_result"
    }
   ],
   "source": [
    "voxart.Design(design.find_removable() * 2).slices_fig()"
   ]
  },
  {
   "cell_type": "markdown",
   "id": "88b2598a",
   "metadata": {},
   "source": [
    "## Search"
   ]
  },
  {
   "cell_type": "code",
   "execution_count": 23,
   "id": "47574f0f",
   "metadata": {},
   "outputs": [
    {
     "name": "stdout",
     "output_type": "stream",
     "text": [
      "Starting objective value: 153.0\n",
      "Starting goal form 0\n",
      "Starting goal form 1\n",
      "Starting goal form 2\n",
      "Starting goal form 3\n",
      "Starting goal form 4\n",
      "Starting goal form 5\n",
      "Starting goal form 6\n",
      "Starting goal form 7\n",
      "Starting goal form 8\n",
      "Starting goal form 9\n",
      "Starting goal form 10\n",
      "Starting goal form 11\n",
      "Starting goal form 12\n",
      "Starting goal form 13\n",
      "Starting goal form 14\n",
      "Starting goal form 15\n"
     ]
    },
    {
     "data": {
      "text/html": [
       "<div>\n",
       "<style scoped>\n",
       "    .dataframe tbody tr th:only-of-type {\n",
       "        vertical-align: middle;\n",
       "    }\n",
       "\n",
       "    .dataframe tbody tr th {\n",
       "        vertical-align: top;\n",
       "    }\n",
       "\n",
       "    .dataframe thead th {\n",
       "        text-align: right;\n",
       "    }\n",
       "</style>\n",
       "<table border=\"1\" class=\"dataframe\">\n",
       "  <thead>\n",
       "    <tr style=\"text-align: right;\">\n",
       "      <th></th>\n",
       "      <th>form_idx</th>\n",
       "      <th>is_starting</th>\n",
       "      <th>objective_value</th>\n",
       "    </tr>\n",
       "  </thead>\n",
       "  <tbody>\n",
       "    <tr>\n",
       "      <th>136</th>\n",
       "      <td>12</td>\n",
       "      <td>False</td>\n",
       "      <td>37.0</td>\n",
       "    </tr>\n",
       "    <tr>\n",
       "      <th>11</th>\n",
       "      <td>1</td>\n",
       "      <td>True</td>\n",
       "      <td>152.0</td>\n",
       "    </tr>\n",
       "    <tr>\n",
       "      <th>142</th>\n",
       "      <td>12</td>\n",
       "      <td>False</td>\n",
       "      <td>37.0</td>\n",
       "    </tr>\n",
       "  </tbody>\n",
       "</table>\n",
       "</div>"
      ],
      "text/plain": [
       "     form_idx  is_starting  objective_value\n",
       "136        12        False             37.0\n",
       "11          1         True            152.0\n",
       "142        12        False             37.0"
      ]
     },
     "metadata": {},
     "output_type": "display_data"
    },
    {
     "name": "stdout",
     "output_type": "stream",
     "text": [
      "form index: (5, False)\n",
      "Value: 26.5\n"
     ]
    },
    {
     "data": {
      "image/png": "[encoded data removed]",
      "text/plain": [
       "<Figure size 600x200 with 3 Axes>"
      ]
     },
     "metadata": {},
     "output_type": "display_data"
    },
    {
     "data": {
      "image/png": "[encoded data removed]",
      "text/plain": [
       "<Figure size 1800x600 with 27 Axes>"
      ]
     },
     "metadata": {},
     "output_type": "display_data"
    },
    {
     "name": "stdout",
     "output_type": "stream",
     "text": [
      "form index: (5, False)\n",
      "Value: 26.5\n"
     ]
    },
    {
     "data": {
      "image/png": "[encoded data removed]",
      "text/plain": [
       "<Figure size 600x200 with 3 Axes>"
      ]
     },
     "metadata": {},
     "output_type": "display_data"
    },
    {
     "data": {
      "image/png": "[encoded data removed]",
      "text/plain": [
       "<Figure size 1800x600 with 27 Axes>"
      ]
     },
     "metadata": {},
     "output_type": "display_data"
    },
    {
     "name": "stdout",
     "output_type": "stream",
     "text": [
      "form index: (5, False)\n",
      "Value: 26.5\n"
     ]
    },
    {
     "data": {
      "image/png": "[encoded data removed]",
      "text/plain": [
       "<Figure size 600x200 with 3 Axes>"
      ]
     },
     "metadata": {},
     "output_type": "display_data"
    },
    {
     "data": {
      "image/png": "[encoded data removed]",
      "text/plain": [
       "<Figure size 1800x600 with 27 Axes>"
      ]
     },
     "metadata": {},
     "output_type": "display_data"
    },
    {
     "name": "stdout",
     "output_type": "stream",
     "text": [
      "CPU times: user 7.95 s, sys: 520 ms, total: 8.47 s\n",
      "Wall time: 7.13 s\n"
     ]
    },
    {
     "data": {
      "image/png": "[encoded data removed]",
      "text/plain": [
       "<Figure size 640x480 with 1 Axes>"
      ]
     },
     "metadata": {},
     "output_type": "display_data"
    }
   ],
   "source": [
    "%%time\n",
    "base_design = test_goal.create_base_design()\n",
    "masks = voxart.Masks(base_design.size)\n",
    "print(\"Starting objective value:\", voxart.objective_value(base_design, masks))\n",
    "results = voxart.search(test_goal, \"random_face_first\", 10, 3)\n",
    "df_results = results.all_objective_values([\"form_idx\", \"is_starting\"])\n",
    "display(df_results.sample(3))\n",
    "plt.hist(df_results[\"objective_value\"])\n",
    "for label, design in results.best():\n",
    "    print(\"form index:\", label)\n",
    "    print(\"Value:\", voxart.objective_value(design, masks))\n",
    "    display(design.projections_fig())\n",
    "    display(design.slices_fig())"
   ]
  },
  {
   "cell_type": "code",
   "execution_count": null,
   "id": "9319a5b1",
   "metadata": {},
   "outputs": [],
   "source": []
  },
  {
   "cell_type": "markdown",
   "id": "03a8075c",
   "metadata": {},
   "source": [
    "## Looking at equality operations"
   ]
  },
  {
   "cell_type": "code",
   "execution_count": 21,
   "id": "3b3c8418",
   "metadata": {},
   "outputs": [
    {
     "data": {
      "text/plain": [
       "True"
      ]
     },
     "metadata": {},
     "output_type": "display_data"
    },
    {
     "data": {
      "text/plain": [
       "False"
      ]
     },
     "metadata": {},
     "output_type": "display_data"
    },
    {
     "data": {
      "text/plain": [
       "False"
      ]
     },
     "metadata": {},
     "output_type": "display_data"
    },
    {
     "data": {
      "text/plain": [
       "False"
      ]
     },
     "metadata": {},
     "output_type": "display_data"
    }
   ],
   "source": [
    "goal0 = voxart.Goal.from_arrays([[1, 1], [0, 0]],\n",
    "                                [[1, 0], [0, 0]],\n",
    "                                [[0, 1], [0, 0]])\n",
    "goal1 = voxart.Goal.from_arrays([[1, 1], [0, 0]],\n",
    "                                [[1, 0], [0, 0]],\n",
    "                                [[0, 1], [0, 0]])\n",
    "goal2 = voxart.Goal.from_arrays([[1, 1], [1, 1]],\n",
    "                                [[1, 0], [1, 1]],\n",
    "                                [[0, 1], [1, 1]])\n",
    "goal3 = voxart.Goal.from_arrays(np.pad([[1]], 2, constant_values=0),\n",
    "                                np.pad([[1]], 2, constant_values=0),\n",
    "                                np.pad([[1]], 2, constant_values=0))\n",
    "display(goal0 == goal1)\n",
    "display(goal0 == goal2)\n",
    "display(goal1 == goal2)\n",
    "display(goal0 == goal3)"
   ]
  },
  {
   "cell_type": "code",
   "execution_count": 22,
   "id": "727e9ba5",
   "metadata": {},
   "outputs": [
    {
     "name": "stderr",
     "output_type": "stream",
     "text": [
      "/var/folders/06/hmgfyb_d5076hlrrhyncy5vc0000gq/T/ipykernel_62647/2463477595.py:1: DeprecationWarning: elementwise comparison failed; this will raise an error in the future.\n",
      "  goal0._goals == goal3._goals\n"
     ]
    },
    {
     "data": {
      "text/plain": [
       "False"
      ]
     },
     "execution_count": 22,
     "metadata": {},
     "output_type": "execute_result"
    }
   ],
   "source": [
    "goal0._goals == goal3._goals"
   ]
  },
  {
   "cell_type": "code",
   "execution_count": 24,
   "id": "99a96ea7",
   "metadata": {},
   "outputs": [
    {
     "ename": "TypeError",
     "evalue": "unhashable type: 'Goal'",
     "output_type": "error",
     "traceback": [
      "\u001b[0;31m---------------------------------------------------------------------------\u001b[0m",
      "\u001b[0;31mTypeError\u001b[0m                                 Traceback (most recent call last)",
      "Cell \u001b[0;32mIn[24], line 1\u001b[0m\n\u001b[0;32m----> 1\u001b[0m \u001b[38;5;28;43mset\u001b[39;49m\u001b[43m(\u001b[49m\u001b[43m[\u001b[49m\u001b[43mgoal0\u001b[49m\u001b[43m,\u001b[49m\u001b[43m \u001b[49m\u001b[43mgoal1\u001b[49m\u001b[43m,\u001b[49m\u001b[43m \u001b[49m\u001b[43mgoal2\u001b[49m\u001b[43m,\u001b[49m\u001b[43m \u001b[49m\u001b[43mgoal3\u001b[49m\u001b[43m]\u001b[49m\u001b[43m)\u001b[49m\n",
      "\u001b[0;31mTypeError\u001b[0m: unhashable type: 'Goal'"
     ]
    }
   ],
   "source": [
    "set([goal0, goal1, goal2, goal3])"
   ]
  },
  {
   "cell_type": "code",
   "execution_count": 26,
   "id": "20ead69f",
   "metadata": {},
   "outputs": [
    {
     "data": {
      "text/plain": [
       "2096551961257740828"
      ]
     },
     "execution_count": 26,
     "metadata": {},
     "output_type": "execute_result"
    }
   ],
   "source": [
    "hash(goal0._goals.data.tobytes())"
   ]
  },
  {
   "cell_type": "markdown",
   "id": "a9f38719",
   "metadata": {},
   "source": [
    "## Making a faster find_removable"
   ]
  },
  {
   "cell_type": "code",
   "execution_count": 22,
   "id": "7c5df05f",
   "metadata": {},
   "outputs": [
    {
     "data": {
      "image/png": "[encoded data removed]",
      "text/plain": [
       "<Figure size 600x200 with 3 Axes>"
      ]
     },
     "execution_count": 22,
     "metadata": {},
     "output_type": "execute_result"
    }
   ],
   "source": [
    "rng = np.random.default_rng()\n",
    "goal_for_timing = voxart.Goal.from_arrays(\n",
    "    rng.choice(a=[0, 2], p=[0.7, 0.3], size=(11, 11)),\n",
    "    rng.choice(a=[0, 2], p=[0.7, 0.3], size=(11, 11)),\n",
    "    rng.choice(a=[0, 2], p=[0.7, 0.3], size=(11, 11)))\n",
    "goal_for_timing.add_frame()\n",
    "design_for_timing = goal_for_timing.create_base_design()\n",
    "design_for_timing.projections_fig()\n",
    "    "
   ]
  },
  {
   "cell_type": "code",
   "execution_count": 27,
   "id": "1737f3c1",
   "metadata": {},
   "outputs": [
    {
     "name": "stdout",
     "output_type": "stream",
     "text": [
      "3.2 ms ± 46 µs per loop (mean ± std. dev. of 7 runs, 100 loops each)\n"
     ]
    }
   ],
   "source": [
    "%timeit design_for_timing.find_removable_slow()"
   ]
  },
  {
   "cell_type": "code",
   "execution_count": 28,
   "id": "417806f8",
   "metadata": {},
   "outputs": [
    {
     "data": {
      "text/plain": [
       "array([[11,  5,  4,  3,  2,  4,  6,  3,  5,  4, 11],\n",
       "       [ 9,  0,  0,  0,  2,  4,  0,  0,  0,  3,  9],\n",
       "       [ 4,  0,  3,  0,  2,  0,  3,  0,  0,  2,  4],\n",
       "       [ 4,  0,  2,  2,  0,  0,  0,  0,  0,  0,  4],\n",
       "       [ 4,  0,  2,  0,  0,  2,  0,  0,  0,  0,  4],\n",
       "       [ 2,  0,  0,  2,  0,  0,  0,  0,  2,  0,  2],\n",
       "       [ 6,  3,  0,  0,  0,  0,  0,  0,  0,  2,  6],\n",
       "       [ 4,  3,  0,  0,  0,  0,  2,  0,  0,  0,  4],\n",
       "       [ 4,  0,  0,  0,  2,  0,  0,  0,  0,  2,  4],\n",
       "       [ 4,  0,  2,  0,  0,  0,  3,  0,  0,  0,  4],\n",
       "       [11,  5,  4,  3,  2,  4,  6,  3,  5,  4, 11]])"
      ]
     },
     "metadata": {},
     "output_type": "display_data"
    },
    {
     "data": {
      "text/plain": [
       "array([[11,  4,  6,  4,  5,  4,  5,  2,  3,  6, 11],\n",
       "       [ 6,  0,  0,  0,  0,  0,  3,  0,  0,  0,  6],\n",
       "       [ 6,  0,  0,  0,  0,  0,  3,  0,  0,  0,  6],\n",
       "       [ 6,  0,  0,  0,  0,  0,  0,  0,  2,  0,  6],\n",
       "       [ 3,  2,  0,  0,  0,  0,  2,  0,  0,  2,  3],\n",
       "       [ 3,  0,  0,  0,  0,  3,  0,  0,  0,  0,  3],\n",
       "       [ 3,  0,  2,  2,  0,  3,  0,  2,  0,  0,  3],\n",
       "       [ 4,  2,  0,  0,  0,  0,  2,  0,  0,  3,  4],\n",
       "       [ 3,  0,  0,  0,  0,  0,  0,  0,  2,  0,  3],\n",
       "       [ 7,  4,  3,  0,  0,  0,  0,  0,  2,  0,  7],\n",
       "       [11,  4,  6,  4,  5,  4,  5,  2,  3,  6, 11]])"
      ]
     },
     "metadata": {},
     "output_type": "display_data"
    },
    {
     "data": {
      "text/plain": [
       "array([[11,  5,  6,  4,  4,  4,  4,  4,  4,  4, 11],\n",
       "       [ 3,  2,  0,  2,  0,  0,  2,  0,  0,  3,  3],\n",
       "       [ 3,  2,  3,  0,  2,  0,  2,  0,  0,  0,  3],\n",
       "       [ 3,  2,  0,  0,  0,  0,  2,  2,  0,  2,  3],\n",
       "       [ 5,  0,  0,  0,  2,  0,  0,  0,  0,  0,  5],\n",
       "       [ 3,  3,  0,  0,  0,  0,  0,  0,  0,  0,  3],\n",
       "       [ 6,  3,  0,  0,  0,  0,  0,  0,  0,  0,  6],\n",
       "       [ 5,  3,  0,  2,  0,  0,  0,  0,  0,  0,  5],\n",
       "       [ 3,  0,  0,  0,  0,  0,  0,  0,  2,  0,  3],\n",
       "       [ 5,  2,  3,  0,  0,  0,  3,  3,  2,  0,  5],\n",
       "       [11,  5,  6,  4,  4,  4,  4,  4,  4,  4, 11]])"
      ]
     },
     "metadata": {},
     "output_type": "display_data"
    }
   ],
   "source": [
    "vox = design_for_timing.vox\n",
    "display(np.sum(vox, axis=0))\n",
    "display(np.sum(vox, axis=1))\n",
    "display(np.sum(vox, axis=2))"
   ]
  },
  {
   "cell_type": "code",
   "execution_count": 29,
   "id": "70fa5524",
   "metadata": {},
   "outputs": [
    {
     "data": {
      "text/plain": [
       "array([[11,  4,  6,  4,  5,  4,  5,  2,  3,  6, 11],\n",
       "       [ 6,  0,  0,  0,  0,  0,  3,  0,  0,  0,  6],\n",
       "       [ 6,  0,  0,  0,  0,  0,  3,  0,  0,  0,  6],\n",
       "       [ 6,  0,  0,  0,  0,  0,  0,  0,  2,  0,  6],\n",
       "       [ 3,  2,  0,  0,  0,  0,  2,  0,  0,  2,  3],\n",
       "       [ 3,  0,  0,  0,  0,  3,  0,  0,  0,  0,  3],\n",
       "       [ 3,  0,  2,  2,  0,  3,  0,  2,  0,  0,  3],\n",
       "       [ 4,  2,  0,  0,  0,  0,  2,  0,  0,  3,  4],\n",
       "       [ 3,  0,  0,  0,  0,  0,  0,  0,  2,  0,  3],\n",
       "       [ 7,  4,  3,  0,  0,  0,  0,  0,  2,  0,  7],\n",
       "       [11,  4,  6,  4,  5,  4,  5,  2,  3,  6, 11]])"
      ]
     },
     "execution_count": 29,
     "metadata": {},
     "output_type": "execute_result"
    }
   ],
   "source": [
    "x = np.sum(vox, axis=1)\n",
    "x"
   ]
  },
  {
   "cell_type": "code",
   "execution_count": 30,
   "id": "e9d9342f",
   "metadata": {},
   "outputs": [
    {
     "data": {
      "text/plain": [
       "array([[[11,  4,  6, ...,  3,  6, 11],\n",
       "        [11,  4,  6, ...,  3,  6, 11],\n",
       "        [11,  4,  6, ...,  3,  6, 11],\n",
       "        ...,\n",
       "        [11,  4,  6, ...,  3,  6, 11],\n",
       "        [11,  4,  6, ...,  3,  6, 11],\n",
       "        [11,  4,  6, ...,  3,  6, 11]],\n",
       "\n",
       "       [[ 6,  0,  0, ...,  0,  0,  6],\n",
       "        [ 6,  0,  0, ...,  0,  0,  6],\n",
       "        [ 6,  0,  0, ...,  0,  0,  6],\n",
       "        ...,\n",
       "        [ 6,  0,  0, ...,  0,  0,  6],\n",
       "        [ 6,  0,  0, ...,  0,  0,  6],\n",
       "        [ 6,  0,  0, ...,  0,  0,  6]],\n",
       "\n",
       "       [[ 6,  0,  0, ...,  0,  0,  6],\n",
       "        [ 6,  0,  0, ...,  0,  0,  6],\n",
       "        [ 6,  0,  0, ...,  0,  0,  6],\n",
       "        ...,\n",
       "        [ 6,  0,  0, ...,  0,  0,  6],\n",
       "        [ 6,  0,  0, ...,  0,  0,  6],\n",
       "        [ 6,  0,  0, ...,  0,  0,  6]],\n",
       "\n",
       "       ...,\n",
       "\n",
       "       [[ 3,  0,  0, ...,  2,  0,  3],\n",
       "        [ 3,  0,  0, ...,  2,  0,  3],\n",
       "        [ 3,  0,  0, ...,  2,  0,  3],\n",
       "        ...,\n",
       "        [ 3,  0,  0, ...,  2,  0,  3],\n",
       "        [ 3,  0,  0, ...,  2,  0,  3],\n",
       "        [ 3,  0,  0, ...,  2,  0,  3]],\n",
       "\n",
       "       [[ 7,  4,  3, ...,  2,  0,  7],\n",
       "        [ 7,  4,  3, ...,  2,  0,  7],\n",
       "        [ 7,  4,  3, ...,  2,  0,  7],\n",
       "        ...,\n",
       "        [ 7,  4,  3, ...,  2,  0,  7],\n",
       "        [ 7,  4,  3, ...,  2,  0,  7],\n",
       "        [ 7,  4,  3, ...,  2,  0,  7]],\n",
       "\n",
       "       [[11,  4,  6, ...,  3,  6, 11],\n",
       "        [11,  4,  6, ...,  3,  6, 11],\n",
       "        [11,  4,  6, ...,  3,  6, 11],\n",
       "        ...,\n",
       "        [11,  4,  6, ...,  3,  6, 11],\n",
       "        [11,  4,  6, ...,  3,  6, 11],\n",
       "        [11,  4,  6, ...,  3,  6, 11]]])"
      ]
     },
     "execution_count": 30,
     "metadata": {},
     "output_type": "execute_result"
    }
   ],
   "source": [
    "np.broadcast_to(np.expand_dims(x, axis=1), (11, 11, 11))"
   ]
  },
  {
   "cell_type": "code",
   "execution_count": 31,
   "id": "8350f960",
   "metadata": {},
   "outputs": [
    {
     "data": {
      "text/plain": [
       "array([[[11,  5,  4, ...,  5,  4, 11],\n",
       "        [ 9,  0,  0, ...,  0,  3,  9],\n",
       "        [ 4,  0,  3, ...,  0,  2,  4],\n",
       "        ...,\n",
       "        [ 4,  0,  0, ...,  0,  2,  4],\n",
       "        [ 4,  0,  2, ...,  0,  0,  4],\n",
       "        [11,  5,  4, ...,  5,  4, 11]],\n",
       "\n",
       "       [[11,  5,  4, ...,  5,  4, 11],\n",
       "        [ 9,  0,  0, ...,  0,  3,  9],\n",
       "        [ 4,  0,  3, ...,  0,  2,  4],\n",
       "        ...,\n",
       "        [ 4,  0,  0, ...,  0,  2,  4],\n",
       "        [ 4,  0,  2, ...,  0,  0,  4],\n",
       "        [11,  5,  4, ...,  5,  4, 11]],\n",
       "\n",
       "       [[11,  5,  4, ...,  5,  4, 11],\n",
       "        [ 9,  0,  0, ...,  0,  3,  9],\n",
       "        [ 4,  0,  3, ...,  0,  2,  4],\n",
       "        ...,\n",
       "        [ 4,  0,  0, ...,  0,  2,  4],\n",
       "        [ 4,  0,  2, ...,  0,  0,  4],\n",
       "        [11,  5,  4, ...,  5,  4, 11]],\n",
       "\n",
       "       ...,\n",
       "\n",
       "       [[11,  5,  4, ...,  5,  4, 11],\n",
       "        [ 9,  0,  0, ...,  0,  3,  9],\n",
       "        [ 4,  0,  3, ...,  0,  2,  4],\n",
       "        ...,\n",
       "        [ 4,  0,  0, ...,  0,  2,  4],\n",
       "        [ 4,  0,  2, ...,  0,  0,  4],\n",
       "        [11,  5,  4, ...,  5,  4, 11]],\n",
       "\n",
       "       [[11,  5,  4, ...,  5,  4, 11],\n",
       "        [ 9,  0,  0, ...,  0,  3,  9],\n",
       "        [ 4,  0,  3, ...,  0,  2,  4],\n",
       "        ...,\n",
       "        [ 4,  0,  0, ...,  0,  2,  4],\n",
       "        [ 4,  0,  2, ...,  0,  0,  4],\n",
       "        [11,  5,  4, ...,  5,  4, 11]],\n",
       "\n",
       "       [[11,  5,  4, ...,  5,  4, 11],\n",
       "        [ 9,  0,  0, ...,  0,  3,  9],\n",
       "        [ 4,  0,  3, ...,  0,  2,  4],\n",
       "        ...,\n",
       "        [ 4,  0,  0, ...,  0,  2,  4],\n",
       "        [ 4,  0,  2, ...,  0,  0,  4],\n",
       "        [11,  5,  4, ...,  5,  4, 11]]])"
      ]
     },
     "metadata": {},
     "output_type": "display_data"
    },
    {
     "data": {
      "text/plain": [
       "array([[[11,  4,  6, ...,  3,  6, 11],\n",
       "        [11,  4,  6, ...,  3,  6, 11],\n",
       "        [11,  4,  6, ...,  3,  6, 11],\n",
       "        ...,\n",
       "        [11,  4,  6, ...,  3,  6, 11],\n",
       "        [11,  4,  6, ...,  3,  6, 11],\n",
       "        [11,  4,  6, ...,  3,  6, 11]],\n",
       "\n",
       "       [[ 6,  0,  0, ...,  0,  0,  6],\n",
       "        [ 6,  0,  0, ...,  0,  0,  6],\n",
       "        [ 6,  0,  0, ...,  0,  0,  6],\n",
       "        ...,\n",
       "        [ 6,  0,  0, ...,  0,  0,  6],\n",
       "        [ 6,  0,  0, ...,  0,  0,  6],\n",
       "        [ 6,  0,  0, ...,  0,  0,  6]],\n",
       "\n",
       "       [[ 6,  0,  0, ...,  0,  0,  6],\n",
       "        [ 6,  0,  0, ...,  0,  0,  6],\n",
       "        [ 6,  0,  0, ...,  0,  0,  6],\n",
       "        ...,\n",
       "        [ 6,  0,  0, ...,  0,  0,  6],\n",
       "        [ 6,  0,  0, ...,  0,  0,  6],\n",
       "        [ 6,  0,  0, ...,  0,  0,  6]],\n",
       "\n",
       "       ...,\n",
       "\n",
       "       [[ 3,  0,  0, ...,  2,  0,  3],\n",
       "        [ 3,  0,  0, ...,  2,  0,  3],\n",
       "        [ 3,  0,  0, ...,  2,  0,  3],\n",
       "        ...,\n",
       "        [ 3,  0,  0, ...,  2,  0,  3],\n",
       "        [ 3,  0,  0, ...,  2,  0,  3],\n",
       "        [ 3,  0,  0, ...,  2,  0,  3]],\n",
       "\n",
       "       [[ 7,  4,  3, ...,  2,  0,  7],\n",
       "        [ 7,  4,  3, ...,  2,  0,  7],\n",
       "        [ 7,  4,  3, ...,  2,  0,  7],\n",
       "        ...,\n",
       "        [ 7,  4,  3, ...,  2,  0,  7],\n",
       "        [ 7,  4,  3, ...,  2,  0,  7],\n",
       "        [ 7,  4,  3, ...,  2,  0,  7]],\n",
       "\n",
       "       [[11,  4,  6, ...,  3,  6, 11],\n",
       "        [11,  4,  6, ...,  3,  6, 11],\n",
       "        [11,  4,  6, ...,  3,  6, 11],\n",
       "        ...,\n",
       "        [11,  4,  6, ...,  3,  6, 11],\n",
       "        [11,  4,  6, ...,  3,  6, 11],\n",
       "        [11,  4,  6, ...,  3,  6, 11]]])"
      ]
     },
     "metadata": {},
     "output_type": "display_data"
    },
    {
     "data": {
      "text/plain": [
       "array([[[11, 11, 11, ..., 11, 11, 11],\n",
       "        [ 5,  5,  5, ...,  5,  5,  5],\n",
       "        [ 6,  6,  6, ...,  6,  6,  6],\n",
       "        ...,\n",
       "        [ 4,  4,  4, ...,  4,  4,  4],\n",
       "        [ 4,  4,  4, ...,  4,  4,  4],\n",
       "        [11, 11, 11, ..., 11, 11, 11]],\n",
       "\n",
       "       [[ 3,  3,  3, ...,  3,  3,  3],\n",
       "        [ 2,  2,  2, ...,  2,  2,  2],\n",
       "        [ 0,  0,  0, ...,  0,  0,  0],\n",
       "        ...,\n",
       "        [ 0,  0,  0, ...,  0,  0,  0],\n",
       "        [ 3,  3,  3, ...,  3,  3,  3],\n",
       "        [ 3,  3,  3, ...,  3,  3,  3]],\n",
       "\n",
       "       [[ 3,  3,  3, ...,  3,  3,  3],\n",
       "        [ 2,  2,  2, ...,  2,  2,  2],\n",
       "        [ 3,  3,  3, ...,  3,  3,  3],\n",
       "        ...,\n",
       "        [ 0,  0,  0, ...,  0,  0,  0],\n",
       "        [ 0,  0,  0, ...,  0,  0,  0],\n",
       "        [ 3,  3,  3, ...,  3,  3,  3]],\n",
       "\n",
       "       ...,\n",
       "\n",
       "       [[ 3,  3,  3, ...,  3,  3,  3],\n",
       "        [ 0,  0,  0, ...,  0,  0,  0],\n",
       "        [ 0,  0,  0, ...,  0,  0,  0],\n",
       "        ...,\n",
       "        [ 2,  2,  2, ...,  2,  2,  2],\n",
       "        [ 0,  0,  0, ...,  0,  0,  0],\n",
       "        [ 3,  3,  3, ...,  3,  3,  3]],\n",
       "\n",
       "       [[ 5,  5,  5, ...,  5,  5,  5],\n",
       "        [ 2,  2,  2, ...,  2,  2,  2],\n",
       "        [ 3,  3,  3, ...,  3,  3,  3],\n",
       "        ...,\n",
       "        [ 2,  2,  2, ...,  2,  2,  2],\n",
       "        [ 0,  0,  0, ...,  0,  0,  0],\n",
       "        [ 5,  5,  5, ...,  5,  5,  5]],\n",
       "\n",
       "       [[11, 11, 11, ..., 11, 11, 11],\n",
       "        [ 5,  5,  5, ...,  5,  5,  5],\n",
       "        [ 6,  6,  6, ...,  6,  6,  6],\n",
       "        ...,\n",
       "        [ 4,  4,  4, ...,  4,  4,  4],\n",
       "        [ 4,  4,  4, ...,  4,  4,  4],\n",
       "        [11, 11, 11, ..., 11, 11, 11]]])"
      ]
     },
     "metadata": {},
     "output_type": "display_data"
    }
   ],
   "source": [
    "for ax in range(3):\n",
    "    display(np.broadcast_to(np.expand_dims(np.sum(vox, axis=ax), axis=ax), (11, 11, 11)))"
   ]
  },
  {
   "cell_type": "code",
   "execution_count": 32,
   "id": "6d246a27",
   "metadata": {},
   "outputs": [
    {
     "name": "stdout",
     "output_type": "stream",
     "text": [
      "Original design\n"
     ]
    },
    {
     "data": {
      "image/png": "[encoded data removed]",
      "text/plain": [
       "<Figure size 1000x600 with 15 Axes>"
      ]
     },
     "metadata": {},
     "output_type": "display_data"
    },
    {
     "name": "stdout",
     "output_type": "stream",
     "text": [
      "From slow process\n"
     ]
    },
    {
     "data": {
      "image/png": "[encoded data removed]",
      "text/plain": [
       "<Figure size 1000x600 with 15 Axes>"
      ]
     },
     "metadata": {},
     "output_type": "display_data"
    },
    {
     "name": "stdout",
     "output_type": "stream",
     "text": [
      "From fast process\n"
     ]
    },
    {
     "data": {
      "image/png": "[encoded data removed]",
      "text/plain": [
       "<Figure size 1000x600 with 15 Axes>"
      ]
     },
     "metadata": {},
     "output_type": "display_data"
    }
   ],
   "source": [
    "rng = np.random.default_rng(100)\n",
    "size = 5\n",
    "design = voxart.Design(rng.choice(a=[0, 1], p=[0.7, 0.3], size=(size, size, size)))\n",
    "print(\"Original design\")\n",
    "display(design.slices_fig())\n",
    "np.all(design.find_removable() == design.find_removable_slow())\n",
    "print(\"From slow process\")\n",
    "display(voxart.Design(design.find_removable_slow()).slices_fig())\n",
    "print(\"From fast process\")\n",
    "display(voxart.Design(design.find_removable()).slices_fig())"
   ]
  },
  {
   "cell_type": "code",
   "execution_count": 33,
   "id": "7fd2822a",
   "metadata": {},
   "outputs": [
    {
     "name": "stdout",
     "output_type": "stream",
     "text": [
      "Original design\n"
     ]
    },
    {
     "data": {
      "text/plain": [
       "array([[1, 0, 0, 0, 1],\n",
       "       [0, 1, 1, 0, 0],\n",
       "       [1, 0, 0, 0, 0],\n",
       "       [0, 1, 0, 1, 0],\n",
       "       [1, 1, 0, 0, 1]])"
      ]
     },
     "metadata": {},
     "output_type": "display_data"
    },
    {
     "name": "stdout",
     "output_type": "stream",
     "text": [
      "From slow process\n"
     ]
    },
    {
     "data": {
      "text/plain": [
       "array([[1, 0, 0, 0, 1],\n",
       "       [0, 1, 0, 0, 0],\n",
       "       [0, 0, 0, 0, 0],\n",
       "       [0, 0, 0, 0, 0],\n",
       "       [0, 1, 0, 0, 1]])"
      ]
     },
     "metadata": {},
     "output_type": "display_data"
    },
    {
     "name": "stdout",
     "output_type": "stream",
     "text": [
      "From fast process\n"
     ]
    },
    {
     "data": {
      "text/plain": [
       "array([[1, 0, 0, 0, 1],\n",
       "       [0, 1, 0, 0, 0],\n",
       "       [0, 0, 0, 0, 0],\n",
       "       [0, 0, 0, 0, 0],\n",
       "       [0, 1, 0, 0, 1]])"
      ]
     },
     "metadata": {},
     "output_type": "display_data"
    },
    {
     "name": "stdout",
     "output_type": "stream",
     "text": [
      "Sums array\n"
     ]
    },
    {
     "ename": "AttributeError",
     "evalue": "'Design' object has no attribute '_debug_sums'",
     "output_type": "error",
     "traceback": [
      "\u001b[0;31m---------------------------------------------------------------------------\u001b[0m",
      "\u001b[0;31mAttributeError\u001b[0m                            Traceback (most recent call last)",
      "Cell \u001b[0;32mIn[33], line 14\u001b[0m\n\u001b[1;32m     12\u001b[0m \u001b[38;5;66;03m#display(voxart.Design(design.find_removable()).slices_fig())\u001b[39;00m\n\u001b[1;32m     13\u001b[0m \u001b[38;5;28mprint\u001b[39m(\u001b[38;5;124m\"\u001b[39m\u001b[38;5;124mSums array\u001b[39m\u001b[38;5;124m\"\u001b[39m)\n\u001b[0;32m---> 14\u001b[0m display(\u001b[43mdesign\u001b[49m\u001b[38;5;241;43m.\u001b[39;49m\u001b[43m_debug_sums\u001b[49m)\n",
      "\u001b[0;31mAttributeError\u001b[0m: 'Design' object has no attribute '_debug_sums'"
     ]
    }
   ],
   "source": [
    "rng = np.random.default_rng(100)\n",
    "size = 5\n",
    "design = voxart.Design(rng.choice(a=[0, 1], p=[0.7, 0.3], size=(size, size, size)))\n",
    "print(\"Original design\")\n",
    "display(design.vox[0, :, :])\n",
    "#display(design.slices_fig())\n",
    "#np.all(design.find_removable() == design.find_removable_slow())\n",
    "print(\"From slow process\")\n",
    "display(voxart.Design(design.find_removable_slow()).vox[0, :, :])\n",
    "print(\"From fast process\")\n",
    "display(voxart.Design(design.find_removable()).vox[0, :, :])\n",
    "#display(voxart.Design(design.find_removable()).slices_fig())\n",
    "print(\"Sums array\")\n",
    "display(design._debug_sums)"
   ]
  },
  {
   "cell_type": "code",
   "execution_count": 36,
   "id": "4644deb4",
   "metadata": {},
   "outputs": [
    {
     "name": "stdout",
     "output_type": "stream",
     "text": [
      "43.2 µs ± 607 ns per loop (mean ± std. dev. of 7 runs, 10,000 loops each)\n"
     ]
    }
   ],
   "source": [
    "%timeit design_for_timing.find_removable()"
   ]
  },
  {
   "cell_type": "code",
   "execution_count": 51,
   "id": "cda0633b",
   "metadata": {},
   "outputs": [
    {
     "name": "stdout",
     "output_type": "stream",
     "text": [
      "Help on function load in module numpy:\n",
      "\n",
      "load(file, mmap_mode=None, allow_pickle=False, fix_imports=True, encoding='ASCII', *, max_header_size=10000)\n",
      "    Load arrays or pickled objects from ``.npy``, ``.npz`` or pickled files.\n",
      "    \n",
      "    .. warning:: Loading files that contain object arrays uses the ``pickle``\n",
      "                 module, which is not secure against erroneous or maliciously\n",
      "                 constructed data. Consider passing ``allow_pickle=False`` to\n",
      "                 load data that is known not to contain object arrays for the\n",
      "                 safer handling of untrusted sources.\n",
      "    \n",
      "    Parameters\n",
      "    ----------\n",
      "    file : file-like object, string, or pathlib.Path\n",
      "        The file to read. File-like objects must support the\n",
      "        ``seek()`` and ``read()`` methods and must always\n",
      "        be opened in binary mode.  Pickled files require that the\n",
      "        file-like object support the ``readline()`` method as well.\n",
      "    mmap_mode : {None, 'r+', 'r', 'w+', 'c'}, optional\n",
      "        If not None, then memory-map the file, using the given mode (see\n",
      "        `numpy.memmap` for a detailed description of the modes).  A\n",
      "        memory-mapped array is kept on disk. However, it can be accessed\n",
      "        and sliced like any ndarray.  Memory mapping is especially useful\n",
      "        for accessing small fragments of large files without reading the\n",
      "        entire file into memory.\n",
      "    allow_pickle : bool, optional\n",
      "        Allow loading pickled object arrays stored in npy files. Reasons for\n",
      "        disallowing pickles include security, as loading pickled data can\n",
      "        execute arbitrary code. If pickles are disallowed, loading object\n",
      "        arrays will fail. Default: False\n",
      "    \n",
      "        .. versionchanged:: 1.16.3\n",
      "            Made default False in response to CVE-2019-6446.\n",
      "    \n",
      "    fix_imports : bool, optional\n",
      "        Only useful when loading Python 2 generated pickled files on Python 3,\n",
      "        which includes npy/npz files containing object arrays. If `fix_imports`\n",
      "        is True, pickle will try to map the old Python 2 names to the new names\n",
      "        used in Python 3.\n",
      "    encoding : str, optional\n",
      "        What encoding to use when reading Python 2 strings. Only useful when\n",
      "        loading Python 2 generated pickled files in Python 3, which includes\n",
      "        npy/npz files containing object arrays. Values other than 'latin1',\n",
      "        'ASCII', and 'bytes' are not allowed, as they can corrupt numerical\n",
      "        data. Default: 'ASCII'\n",
      "    max_header_size : int, optional\n",
      "        Maximum allowed size of the header.  Large headers may not be safe\n",
      "        to load securely and thus require explicitly passing a larger value.\n",
      "        See :py:meth:`ast.literal_eval()` for details.\n",
      "        This option is ignored when `allow_pickle` is passed.  In that case\n",
      "        the file is by definition trusted and the limit is unnecessary.\n",
      "    \n",
      "    Returns\n",
      "    -------\n",
      "    result : array, tuple, dict, etc.\n",
      "        Data stored in the file. For ``.npz`` files, the returned instance\n",
      "        of NpzFile class must be closed to avoid leaking file descriptors.\n",
      "    \n",
      "    Raises\n",
      "    ------\n",
      "    OSError\n",
      "        If the input file does not exist or cannot be read.\n",
      "    UnpicklingError\n",
      "        If ``allow_pickle=True``, but the file cannot be loaded as a pickle.\n",
      "    ValueError\n",
      "        The file contains an object array, but ``allow_pickle=False`` given.\n",
      "    \n",
      "    See Also\n",
      "    --------\n",
      "    save, savez, savez_compressed, loadtxt\n",
      "    memmap : Create a memory-map to an array stored in a file on disk.\n",
      "    lib.format.open_memmap : Create or load a memory-mapped ``.npy`` file.\n",
      "    \n",
      "    Notes\n",
      "    -----\n",
      "    - If the file contains pickle data, then whatever object is stored\n",
      "      in the pickle is returned.\n",
      "    - If the file is a ``.npy`` file, then a single array is returned.\n",
      "    - If the file is a ``.npz`` file, then a dictionary-like object is\n",
      "      returned, containing ``{filename: array}`` key-value pairs, one for\n",
      "      each file in the archive.\n",
      "    - If the file is a ``.npz`` file, the returned value supports the\n",
      "      context manager protocol in a similar fashion to the open function::\n",
      "    \n",
      "        with load('foo.npz') as data:\n",
      "            a = data['a']\n",
      "    \n",
      "      The underlying file descriptor is closed when exiting the 'with'\n",
      "      block.\n",
      "    \n",
      "    Examples\n",
      "    --------\n",
      "    Store data to disk, and load it again:\n",
      "    \n",
      "    >>> np.save('/tmp/123', np.array([[1, 2, 3], [4, 5, 6]]))\n",
      "    >>> np.load('/tmp/123.npy')\n",
      "    array([[1, 2, 3],\n",
      "           [4, 5, 6]])\n",
      "    \n",
      "    Store compressed data to disk, and load it again:\n",
      "    \n",
      "    >>> a=np.array([[1, 2, 3], [4, 5, 6]])\n",
      "    >>> b=np.array([1, 2])\n",
      "    >>> np.savez('/tmp/123.npz', a=a, b=b)\n",
      "    >>> data = np.load('/tmp/123.npz')\n",
      "    >>> data['a']\n",
      "    array([[1, 2, 3],\n",
      "           [4, 5, 6]])\n",
      "    >>> data['b']\n",
      "    array([1, 2])\n",
      "    >>> data.close()\n",
      "    \n",
      "    Mem-map the stored array, and then access the second row\n",
      "    directly from disk:\n",
      "    \n",
      "    >>> X = np.load('/tmp/123.npy', mmap_mode='r')\n",
      "    >>> X[1, :]\n",
      "    memmap([4, 5, 6])\n",
      "\n"
     ]
    }
   ],
   "source": [
    "help(np.load)"
   ]
  },
  {
   "cell_type": "markdown",
   "id": "5ce1c847",
   "metadata": {},
   "source": [
    "## Playing with image loading"
   ]
  },
  {
   "cell_type": "code",
   "execution_count": 52,
   "id": "1c4a9dcd",
   "metadata": {},
   "outputs": [
    {
     "ename": "ModuleNotFoundError",
     "evalue": "No module named 'imageio'",
     "output_type": "error",
     "traceback": [
      "\u001b[0;31m---------------------------------------------------------------------------\u001b[0m",
      "\u001b[0;31mModuleNotFoundError\u001b[0m                       Traceback (most recent call last)",
      "Cell \u001b[0;32mIn[52], line 1\u001b[0m\n\u001b[0;32m----> 1\u001b[0m \u001b[38;5;28;01mimport\u001b[39;00m \u001b[38;5;21;01mimageio\u001b[39;00m\n",
      "\u001b[0;31mModuleNotFoundError\u001b[0m: No module named 'imageio'"
     ]
    }
   ],
   "source": [
    "import imageio"
   ]
  },
  {
   "cell_type": "code",
   "execution_count": 53,
   "id": "46d456b1",
   "metadata": {},
   "outputs": [],
   "source": [
    "from PIL import Image"
   ]
  },
  {
   "cell_type": "code",
   "execution_count": 55,
   "id": "32ad861d",
   "metadata": {},
   "outputs": [
    {
     "data": {
      "text/plain": [
       "(16, 16)"
      ]
     },
     "metadata": {},
     "output_type": "display_data"
    },
    {
     "data": {
      "text/plain": [
       "array([[192, 192, 192, 192, 192, 192, 192, 192, 192, 192, 192, 192, 192,\n",
       "        192, 192, 192],\n",
       "       [192, 192, 192, 192, 192, 192, 192, 192, 140, 192, 192, 192, 192,\n",
       "        192, 192, 192],\n",
       "       [206, 255, 255, 255, 255, 255, 255, 206, 231, 140, 192, 192, 192,\n",
       "        192, 192, 192],\n",
       "       [206, 255, 255, 255, 255, 255, 255, 206, 255, 231, 140, 192, 192,\n",
       "        192, 192, 192],\n",
       "       [206, 255, 255, 255, 255, 255, 255, 206, 206, 206, 192, 140, 192,\n",
       "        192, 192, 192],\n",
       "       [206, 255, 255, 255, 255, 255, 255, 255,  57,  57,  57,  57, 192,\n",
       "        192, 192, 192],\n",
       "       [206, 255, 192, 107, 231, 206, 107, 206, 255, 192, 192, 107, 192,\n",
       "        192, 192, 192],\n",
       "       [206, 255, 107, 231, 140, 107, 255, 107, 255, 255, 231, 107, 192,\n",
       "        192, 192, 192],\n",
       "       [206, 255, 107, 255, 107, 107, 255, 107, 255, 255, 255, 107, 192,\n",
       "        192, 192, 192],\n",
       "       [206, 255, 140, 107, 231, 192, 107, 192, 255, 255, 255, 107, 192,\n",
       "        192, 192, 192],\n",
       "       [206, 255, 192, 107, 231, 206, 107, 206, 255, 255, 255, 107, 192,\n",
       "        192, 192, 192],\n",
       "       [206, 255, 107, 231, 140, 107, 255, 107, 255, 255, 255, 107, 192,\n",
       "        192, 192, 192],\n",
       "       [206, 255, 107, 255, 107, 107, 255, 107, 255, 255, 255, 107, 192,\n",
       "        192, 192, 192],\n",
       "       [206, 255, 140, 107, 231, 192, 107, 192, 255, 255, 255, 107, 192,\n",
       "        192, 192, 192],\n",
       "       [206, 255, 255, 255, 255, 255, 255, 255, 255, 255, 255, 107, 192,\n",
       "        192, 192, 192],\n",
       "       [192, 140, 107, 107, 107, 107, 107, 107, 107, 107, 107,  57, 192,\n",
       "        192, 192, 192]], dtype=uint8)"
      ]
     },
     "metadata": {},
     "output_type": "display_data"
    }
   ],
   "source": [
    "img = Image.open(\"/usr/share/httpd/icons/small/binary.png\")\n",
    "x = np.array(img)\n",
    "display(x.shape)\n",
    "display(x)"
   ]
  },
  {
   "cell_type": "code",
   "execution_count": 57,
   "id": "e286e80b",
   "metadata": {},
   "outputs": [
    {
     "data": {
      "text/plain": [
       "['_Image__transformer',\n",
       " '_PngImageFile__frame',\n",
       " '_PngImageFile__idat',\n",
       " '_PngImageFile__prepare_idat',\n",
       " '__array_interface__',\n",
       " '__class__',\n",
       " '__copy__',\n",
       " '__delattr__',\n",
       " '__dict__',\n",
       " '__dir__',\n",
       " '__doc__',\n",
       " '__enter__',\n",
       " '__eq__',\n",
       " '__exit__',\n",
       " '__format__',\n",
       " '__ge__',\n",
       " '__getattr__',\n",
       " '__getattribute__',\n",
       " '__getstate__',\n",
       " '__gt__',\n",
       " '__hash__',\n",
       " '__init__',\n",
       " '__init_subclass__',\n",
       " '__le__',\n",
       " '__lt__',\n",
       " '__module__',\n",
       " '__ne__',\n",
       " '__new__',\n",
       " '__reduce__',\n",
       " '__reduce_ex__',\n",
       " '__repr__',\n",
       " '__setattr__',\n",
       " '__setstate__',\n",
       " '__sizeof__',\n",
       " '__str__',\n",
       " '__subclasshook__',\n",
       " '__weakref__',\n",
       " '_category',\n",
       " '_close_exclusive_fp_after_loading',\n",
       " '_copy',\n",
       " '_crop',\n",
       " '_dump',\n",
       " '_ensure_mutable',\n",
       " '_exclusive_fp',\n",
       " '_exif',\n",
       " '_expand',\n",
       " '_fp',\n",
       " '_get_safe_box',\n",
       " '_getexif',\n",
       " '_getxmp',\n",
       " '_min_frame',\n",
       " '_new',\n",
       " '_open',\n",
       " '_reload_exif',\n",
       " '_repr_png_',\n",
       " '_repr_pretty_',\n",
       " '_seek',\n",
       " '_seek_check',\n",
       " '_size',\n",
       " '_text',\n",
       " 'alpha_composite',\n",
       " 'apply_transparency',\n",
       " 'close',\n",
       " 'convert',\n",
       " 'copy',\n",
       " 'crop',\n",
       " 'custom_mimetype',\n",
       " 'decoderconfig',\n",
       " 'decodermaxblock',\n",
       " 'default_image',\n",
       " 'draft',\n",
       " 'effect_spread',\n",
       " 'encoderconfig',\n",
       " 'encoderinfo',\n",
       " 'entropy',\n",
       " 'filename',\n",
       " 'filter',\n",
       " 'format',\n",
       " 'format_description',\n",
       " 'fp',\n",
       " 'frombytes',\n",
       " 'get_child_images',\n",
       " 'get_format_mimetype',\n",
       " 'getbands',\n",
       " 'getbbox',\n",
       " 'getchannel',\n",
       " 'getcolors',\n",
       " 'getdata',\n",
       " 'getexif',\n",
       " 'getextrema',\n",
       " 'getim',\n",
       " 'getpalette',\n",
       " 'getpixel',\n",
       " 'getprojection',\n",
       " 'getxmp',\n",
       " 'height',\n",
       " 'histogram',\n",
       " 'im',\n",
       " 'info',\n",
       " 'is_animated',\n",
       " 'load',\n",
       " 'load_end',\n",
       " 'load_prepare',\n",
       " 'load_read',\n",
       " 'map',\n",
       " 'mode',\n",
       " 'n_frames',\n",
       " 'palette',\n",
       " 'paste',\n",
       " 'png',\n",
       " 'point',\n",
       " 'private_chunks',\n",
       " 'putalpha',\n",
       " 'putdata',\n",
       " 'putpalette',\n",
       " 'putpixel',\n",
       " 'pyaccess',\n",
       " 'quantize',\n",
       " 'readonly',\n",
       " 'reduce',\n",
       " 'remap_palette',\n",
       " 'resize',\n",
       " 'rotate',\n",
       " 'save',\n",
       " 'seek',\n",
       " 'show',\n",
       " 'size',\n",
       " 'split',\n",
       " 'tell',\n",
       " 'text',\n",
       " 'thumbnail',\n",
       " 'tile',\n",
       " 'tobitmap',\n",
       " 'tobytes',\n",
       " 'toqimage',\n",
       " 'toqpixmap',\n",
       " 'transform',\n",
       " 'transpose',\n",
       " 'verify',\n",
       " 'width']"
      ]
     },
     "execution_count": 57,
     "metadata": {},
     "output_type": "execute_result"
    }
   ],
   "source": [
    "dir(img)"
   ]
  },
  {
   "cell_type": "code",
   "execution_count": 59,
   "id": "2d755672",
   "metadata": {},
   "outputs": [
    {
     "data": {
      "text/plain": [
       "{'transparency': 192}"
      ]
     },
     "execution_count": 59,
     "metadata": {},
     "output_type": "execute_result"
    }
   ],
   "source": [
    "img.info"
   ]
  },
  {
   "cell_type": "code",
   "execution_count": null,
   "id": "02547a87",
   "metadata": {},
   "outputs": [],
   "source": []
  }
 ],
 "metadata": {
  "kernelspec": {
   "display_name": "voxart",
   "language": "python",
   "name": "voxart"
  },
  "language_info": {
   "codemirror_mode": {
    "name": "ipython",
    "version": 3
   },
   "file_extension": ".py",
   "mimetype": "text/x-python",
   "name": "python",
   "nbconvert_exporter": "python",
   "pygments_lexer": "ipython3",
   "version": "3.9.7"
  }
 },
 "nbformat": 4,
 "nbformat_minor": 5
}
