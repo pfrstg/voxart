{
 "cells": [
  {
   "cell_type": "code",
   "execution_count": 1,
   "id": "8e32400e-1925-47cc-8890-cfae653f246b",
   "metadata": {},
   "outputs": [],
   "source": [
    "import numpy as np\n",
    "import pandas as pd\n",
    "import matplotlib.pyplot as plt"
   ]
  },
  {
   "cell_type": "code",
   "execution_count": 2,
   "id": "1437688c-7c42-4e22-aa73-6b5e9553de3a",
   "metadata": {},
   "outputs": [
    {
     "data": {
      "text/plain": [
       "58.0"
      ]
     },
     "metadata": {},
     "output_type": "display_data"
    },
    {
     "data": {
      "text/plain": [
       "array([[[1., 1., 1., 1., 1., 1., 1.],\n",
       "        [1., 0., 0., 0., 0., 0., 1.],\n",
       "        [1., 0., 0., 0., 0., 0., 1.],\n",
       "        [1., 0., 0., 0., 0., 0., 1.],\n",
       "        [1., 0., 0., 0., 0., 0., 1.],\n",
       "        [1., 0., 0., 0., 0., 0., 1.],\n",
       "        [1., 1., 1., 1., 1., 1., 1.]],\n",
       "\n",
       "       [[0., 0., 0., 0., 0., 0., 0.],\n",
       "        [0., 0., 0., 0., 0., 0., 0.],\n",
       "        [0., 0., 0., 0., 0., 0., 0.],\n",
       "        [0., 0., 0., 0., 0., 0., 0.],\n",
       "        [0., 0., 0., 0., 0., 0., 0.],\n",
       "        [0., 0., 0., 0., 0., 0., 0.],\n",
       "        [1., 0., 0., 0., 0., 0., 1.]],\n",
       "\n",
       "       [[0., 0., 0., 0., 0., 0., 0.],\n",
       "        [0., 0., 0., 0., 0., 0., 0.],\n",
       "        [0., 0., 0., 0., 0., 0., 0.],\n",
       "        [0., 0., 0., 0., 0., 0., 0.],\n",
       "        [0., 0., 0., 0., 0., 0., 0.],\n",
       "        [0., 0., 0., 0., 0., 0., 0.],\n",
       "        [1., 0., 0., 0., 0., 0., 1.]],\n",
       "\n",
       "       [[0., 0., 0., 0., 0., 0., 0.],\n",
       "        [0., 0., 0., 0., 0., 0., 0.],\n",
       "        [0., 0., 0., 0., 0., 0., 0.],\n",
       "        [0., 0., 0., 0., 0., 0., 0.],\n",
       "        [0., 0., 0., 0., 0., 0., 0.],\n",
       "        [0., 0., 0., 0., 0., 0., 0.],\n",
       "        [1., 0., 0., 0., 0., 0., 1.]],\n",
       "\n",
       "       [[0., 0., 0., 0., 0., 0., 0.],\n",
       "        [0., 0., 0., 0., 0., 0., 0.],\n",
       "        [0., 0., 0., 0., 0., 0., 0.],\n",
       "        [0., 0., 0., 0., 0., 0., 0.],\n",
       "        [0., 0., 0., 0., 0., 0., 0.],\n",
       "        [0., 0., 0., 0., 0., 0., 0.],\n",
       "        [1., 0., 0., 0., 0., 0., 1.]],\n",
       "\n",
       "       [[0., 0., 0., 0., 0., 0., 0.],\n",
       "        [0., 0., 0., 0., 0., 0., 0.],\n",
       "        [0., 0., 0., 0., 0., 0., 0.],\n",
       "        [0., 0., 0., 0., 0., 0., 0.],\n",
       "        [0., 0., 0., 0., 0., 0., 0.],\n",
       "        [0., 0., 0., 0., 0., 0., 0.],\n",
       "        [1., 0., 0., 0., 0., 0., 1.]],\n",
       "\n",
       "       [[1., 1., 1., 1., 1., 1., 1.],\n",
       "        [1., 0., 0., 0., 0., 0., 1.],\n",
       "        [1., 0., 0., 0., 0., 0., 1.],\n",
       "        [1., 0., 0., 0., 0., 0., 1.],\n",
       "        [1., 0., 0., 0., 0., 0., 1.],\n",
       "        [1., 0., 0., 0., 0., 0., 1.],\n",
       "        [1., 1., 1., 1., 1., 1., 1.]]])"
      ]
     },
     "execution_count": 2,
     "metadata": {},
     "output_type": "execute_result"
    }
   ],
   "source": [
    "test_vox = np.zeros((7, 7, 7))\n",
    "for i in [0, 6]:\n",
    "    test_vox[i, 0, :] = 1\n",
    "    test_vox[i, 6, :] = 1\n",
    "    test_vox[i, :, 0] = 1\n",
    "    test_vox[i, :, 6] = 1\n",
    "for i in [6]:\n",
    "    test_vox[0, i, :] = 1\n",
    "    test_vox[6, i, :] = 1\n",
    "    test_vox[:, i, 0] = 1\n",
    "    test_vox[:, i, 6] = 1\n",
    "display(test_vox.sum())\n",
    "test_vox"
   ]
  },
  {
   "cell_type": "code",
   "execution_count": 3,
   "id": "962f217b-513f-4e28-982b-3096d5380968",
   "metadata": {},
   "outputs": [],
   "source": [
    "def show_slices(vox, axis):\n",
    "    num_imgs = vox.shape[0]\n",
    "    fig, axes = plt.subplots(1, num_imgs, figsize=(2*num_imgs, 2))\n",
    "    for i, ax in enumerate(axes):\n",
    "        #ax.imshow(vox[i, :, :], cmap=\"binary\", interpolation=\"none\")\n",
    "        ax.imshow(np.take(vox, i, axis=axis), cmap=\"binary\", interpolation=\"none\")\n",
    "        ax.tick_params(axis=\"both\", which=\"both\", bottom=False, left=False, labelbottom=False, labelleft=False)\n",
    "        ax.set_xticks(np.linspace(-0.5, num_imgs - 0.5, num_imgs + 1))\n",
    "        ax.set_yticks(np.linspace(-0.5, num_imgs - 0.5, num_imgs + 1))\n",
    "        ax.grid(visible=True)\n",
    "    return fig"
   ]
  },
  {
   "cell_type": "code",
   "execution_count": 4,
   "id": "f1f6dd0c-f709-4e12-a200-5ca06dca5baf",
   "metadata": {},
   "outputs": [
    {
     "data": {
      "image/png": "[encoded data removed]",
      "text/plain": [
       "<Figure size 1400x200 with 7 Axes>"
      ]
     },
     "metadata": {},
     "output_type": "display_data"
    },
    {
     "data": {
      "image/png": "[encoded data removed]",
      "text/plain": [
       "<Figure size 1400x200 with 7 Axes>"
      ]
     },
     "metadata": {},
     "output_type": "display_data"
    },
    {
     "data": {
      "image/png": "[encoded data removed]",
      "text/plain": [
       "<Figure size 1400x200 with 7 Axes>"
      ]
     },
     "metadata": {},
     "output_type": "display_data"
    }
   ],
   "source": [
    "show_slices(test_vox, 0)\n",
    "show_slices(test_vox, 1)\n",
    "show_slices(test_vox, 2)\n",
    "pass"
   ]
  },
  {
   "cell_type": "code",
   "execution_count": null,
   "id": "15c0be19-e308-4feb-9a2f-a3e748a1ec33",
   "metadata": {},
   "outputs": [],
   "source": []
  },
  {
   "cell_type": "code",
   "execution_count": 5,
   "id": "1e8fb096-8d26-4355-8443-580253c9cde3",
   "metadata": {},
   "outputs": [],
   "source": [
    "def show_projections(vox):\n",
    "    num = vox.shape[0]\n",
    "    fig, axes = plt.subplots(1, 3, figsize=(6, 2))\n",
    "    for dim, ax in enumerate(axes):\n",
    "        #ax.imshow(vox[i, :, :], cmap=\"binary\", interpolation=\"none\")\n",
    "        ax.imshow(vox.max(dim), cmap=\"binary\", interpolation=\"none\")\n",
    "        ax.tick_params(axis=\"both\", which=\"both\", bottom=False, left=False, labelbottom=False, labelleft=False)\n",
    "        ax.set_xticks(np.linspace(-0.5, num - 0.5, num + 1))\n",
    "        ax.set_yticks(np.linspace(-0.5, num - 0.5, num + 1))\n",
    "        ax.grid(visible=True)\n",
    "    return fig"
   ]
  },
  {
   "cell_type": "code",
   "execution_count": 6,
   "id": "8a41d843-80ec-4b54-b470-8bf23a7f0869",
   "metadata": {},
   "outputs": [
    {
     "data": {
      "image/png": "[encoded data removed]",
      "text/plain": [
       "<Figure size 600x200 with 3 Axes>"
      ]
     },
     "metadata": {},
     "output_type": "display_data"
    }
   ],
   "source": [
    "show_projections(test_vox)\n",
    "pass"
   ]
  },
  {
   "cell_type": "markdown",
   "id": "d712e7f4-bb3f-4311-ba7c-815a3109bf2d",
   "metadata": {},
   "source": [
    "## Making a class"
   ]
  },
  {
   "cell_type": "code",
   "execution_count": 17,
   "id": "f8f092e0-d362-418d-912e-996155728591",
   "metadata": {},
   "outputs": [],
   "source": [
    "class Design:\n",
    "    def __init__(self, size):\n",
    "        self._vox = np.zeros((size, size, size))\n",
    "        \n",
    "    @property\n",
    "    def size(self):\n",
    "        return self._vox.shape[0]\n",
    "    \n",
    "    @property\n",
    "    def vox(self):\n",
    "        return self._vox\n",
    "    \n",
    "    def projection(self, axis):\n",
    "        return self._vox.max(axis)\n",
    "    \n",
    "    def projections(self):\n",
    "        for axis in range(3):\n",
    "            yield self.projection(axis)\n",
    "     \n",
    "    def slices(self, axis):\n",
    "        for i in range(self.size):\n",
    "            yield np.take(self._vox, i, axis=axis)\n",
    "            \n",
    "    def projections_fig(self):\n",
    "        fig, axes = plt.subplots(1, 3, figsize=(6, 2))\n",
    "        for axis, ax in enumerate(axes):\n",
    "            #ax.imshow(vox[i, :, :], cmap=\"binary\", interpolation=\"none\")\n",
    "            ax.imshow(self.projection(axis), cmap=\"binary\", interpolation=\"none\")\n",
    "            ax.tick_params(axis=\"both\", which=\"both\", bottom=False, left=False, labelbottom=False, labelleft=False)\n",
    "            ax.set_xticks(np.linspace(-0.5, self.size - 0.5, self.size + 1))\n",
    "            ax.set_yticks(np.linspace(-0.5, self.size - 0.5, self.size + 1))\n",
    "            ax.grid(visible=True)\n",
    "        plt.close()\n",
    "        return fig\n",
    "    \n",
    "    def slices_fig(self):\n",
    "        fig, axes = plt.subplots(3, self.size, figsize=(2 * self.size, 6))\n",
    "        for axis in range(3):\n",
    "            for i, slc in enumerate(self.slices(axis)):\n",
    "                ax = axes[axis, i]\n",
    "                #ax.imshow(vox[i, :, :], cmap=\"binary\", interpolation=\"none\")\n",
    "                ax.imshow(slc, cmap=\"binary\", interpolation=\"none\")\n",
    "                ax.tick_params(axis=\"both\", which=\"both\", bottom=False, left=False, labelbottom=False, labelleft=False)\n",
    "                ax.set_xticks(np.linspace(-0.5, self.size - 0.5, self.size + 1))\n",
    "                ax.set_yticks(np.linspace(-0.5, self.size - 0.5, self.size + 1))\n",
    "                ax.grid(visible=True)\n",
    "        plt.close()\n",
    "        return fig"
   ]
  },
  {
   "cell_type": "code",
   "execution_count": 18,
   "id": "aadc62d9-bc0a-43aa-a4d4-76e44f517c92",
   "metadata": {},
   "outputs": [
    {
     "data": {
      "text/plain": [
       "58.0"
      ]
     },
     "metadata": {},
     "output_type": "display_data"
    },
    {
     "data": {
      "text/plain": [
       "array([[[1., 1., 1., 1., 1., 1., 1.],\n",
       "        [1., 0., 0., 0., 0., 0., 1.],\n",
       "        [1., 0., 0., 0., 0., 0., 1.],\n",
       "        [1., 0., 0., 0., 0., 0., 1.],\n",
       "        [1., 0., 0., 0., 0., 0., 1.],\n",
       "        [1., 0., 0., 0., 0., 0., 1.],\n",
       "        [1., 1., 1., 1., 1., 1., 1.]],\n",
       "\n",
       "       [[0., 0., 0., 0., 0., 0., 0.],\n",
       "        [0., 0., 0., 0., 0., 0., 0.],\n",
       "        [0., 0., 0., 0., 0., 0., 0.],\n",
       "        [0., 0., 0., 0., 0., 0., 0.],\n",
       "        [0., 0., 0., 0., 0., 0., 0.],\n",
       "        [0., 0., 0., 0., 0., 0., 0.],\n",
       "        [1., 0., 0., 0., 0., 0., 1.]],\n",
       "\n",
       "       [[0., 0., 0., 0., 0., 0., 0.],\n",
       "        [0., 0., 0., 0., 0., 0., 0.],\n",
       "        [0., 0., 0., 0., 0., 0., 0.],\n",
       "        [0., 0., 0., 0., 0., 0., 0.],\n",
       "        [0., 0., 0., 0., 0., 0., 0.],\n",
       "        [0., 0., 0., 0., 0., 0., 0.],\n",
       "        [1., 0., 0., 0., 0., 0., 1.]],\n",
       "\n",
       "       [[0., 0., 0., 0., 0., 0., 0.],\n",
       "        [0., 0., 0., 0., 0., 0., 0.],\n",
       "        [0., 0., 0., 0., 0., 0., 0.],\n",
       "        [0., 0., 0., 0., 0., 0., 0.],\n",
       "        [0., 0., 0., 0., 0., 0., 0.],\n",
       "        [0., 0., 0., 0., 0., 0., 0.],\n",
       "        [1., 0., 0., 0., 0., 0., 1.]],\n",
       "\n",
       "       [[0., 0., 0., 0., 0., 0., 0.],\n",
       "        [0., 0., 0., 0., 0., 0., 0.],\n",
       "        [0., 0., 0., 0., 0., 0., 0.],\n",
       "        [0., 0., 0., 0., 0., 0., 0.],\n",
       "        [0., 0., 0., 0., 0., 0., 0.],\n",
       "        [0., 0., 0., 0., 0., 0., 0.],\n",
       "        [1., 0., 0., 0., 0., 0., 1.]],\n",
       "\n",
       "       [[0., 0., 0., 0., 0., 0., 0.],\n",
       "        [0., 0., 0., 0., 0., 0., 0.],\n",
       "        [0., 0., 0., 0., 0., 0., 0.],\n",
       "        [0., 0., 0., 0., 0., 0., 0.],\n",
       "        [0., 0., 0., 0., 0., 0., 0.],\n",
       "        [0., 0., 0., 0., 0., 0., 0.],\n",
       "        [1., 0., 0., 0., 0., 0., 1.]],\n",
       "\n",
       "       [[1., 1., 1., 1., 1., 1., 1.],\n",
       "        [1., 0., 0., 0., 0., 0., 1.],\n",
       "        [1., 0., 0., 0., 0., 0., 1.],\n",
       "        [1., 0., 0., 0., 0., 0., 1.],\n",
       "        [1., 0., 0., 0., 0., 0., 1.],\n",
       "        [1., 0., 0., 0., 0., 0., 1.],\n",
       "        [1., 1., 1., 1., 1., 1., 1.]]])"
      ]
     },
     "execution_count": 18,
     "metadata": {},
     "output_type": "execute_result"
    }
   ],
   "source": [
    "test_vox2 = Design(7)\n",
    "for i in [0, 6]:\n",
    "    test_vox2.vox[i, 0, :] = 1\n",
    "    test_vox2.vox[i, 6, :] = 1\n",
    "    test_vox2.vox[i, :, 0] = 1\n",
    "    test_vox2.vox[i, :, 6] = 1\n",
    "for i in [6]:\n",
    "    test_vox2.vox[0, i, :] = 1\n",
    "    test_vox2.vox[6, i, :] = 1\n",
    "    test_vox2.vox[:, i, 0] = 1\n",
    "    test_vox2.vox[:, i, 6] = 1\n",
    "display(test_vox2.vox.sum())\n",
    "test_vox2._vox"
   ]
  },
  {
   "cell_type": "code",
   "execution_count": 19,
   "id": "80d671b3-210f-4691-8a4c-cf31d27b81e6",
   "metadata": {},
   "outputs": [
    {
     "data": {
      "image/png": "[encoded data removed]",
      "text/plain": [
       "<Figure size 600x200 with 3 Axes>"
      ]
     },
     "execution_count": 19,
     "metadata": {},
     "output_type": "execute_result"
    }
   ],
   "source": [
    "test_vox2.projections_fig()"
   ]
  },
  {
   "cell_type": "code",
   "execution_count": 21,
   "id": "69c3ca17-d96c-4aad-a459-9efe20301613",
   "metadata": {},
   "outputs": [
    {
     "data": {
      "image/png": "[encoded data removed]",
      "text/plain": [
       "<Figure size 1400x600 with 21 Axes>"
      ]
     },
     "execution_count": 21,
     "metadata": {},
     "output_type": "execute_result"
    }
   ],
   "source": [
    "test_vox2.slices_fig()"
   ]
  },
  {
   "cell_type": "code",
   "execution_count": 28,
   "id": "396c7fd1-301d-49cc-bdba-ad8b4a28edb0",
   "metadata": {},
   "outputs": [],
   "source": [
    "class Goal:\n",
    "    def __init__(self, size):\n",
    "        self._goals = np.zeros((3, size, size))\n",
    "       \n",
    "    @property\n",
    "    def size(self):\n",
    "        return self._goals.shape[1]\n",
    "\n",
    "    def goal(self, goal_idx):\n",
    "        return self._goals[goal_idx, : , :]\n",
    "\n",
    "    def fig(self):\n",
    "        fig, axes = plt.subplots(3, 1, figsize=(2, 6))\n",
    "        for goal_idx, ax in enumerate(axes):\n",
    "            #ax.imshow(vox[i, :, :], cmap=\"binary\", interpolation=\"none\")\n",
    "            ax.imshow(self._goals[goal_idx, :, :], cmap=\"binary\", interpolation=\"none\")\n",
    "            ax.tick_params(axis=\"both\", which=\"both\", bottom=False, left=False, labelbottom=False, labelleft=False)\n",
    "            ax.set_xticks(np.linspace(-0.5, self.size - 0.5, self.size + 1))\n",
    "            ax.set_yticks(np.linspace(-0.5, self.size - 0.5, self.size + 1))\n",
    "            ax.grid(visible=True)\n",
    "        plt.close()\n",
    "        return fig   "
   ]
  },
  {
   "cell_type": "code",
   "execution_count": 42,
   "id": "4c354fc8-9af3-4105-a6b6-76dd798b59c9",
   "metadata": {},
   "outputs": [
    {
     "data": {
      "image/png": "[encoded data removed]",
      "text/plain": [
       "<Figure size 200x600 with 3 Axes>"
      ]
     },
     "execution_count": 42,
     "metadata": {},
     "output_type": "execute_result"
    }
   ],
   "source": [
    "GOAL_0 = [\n",
    "    (0, 1),\n",
    "    (1, 1),\n",
    "    (2, 1),\n",
    "    (3, 1),\n",
    "    (4, 1),\n",
    "    (5, 1),\n",
    "    (6, 1),\n",
    "    (0, 2),\n",
    "    (0, 3),\n",
    "    (0, 4),\n",
    "    (0, 5),\n",
    "    (3, 2),\n",
    "    (3, 3),\n",
    "    (3, 4),\n",
    "    (3, 5),\n",
    "    (1, 5),\n",
    "    (2, 5),\n",
    "]\n",
    "GOAL_1 = [\n",
    "    (0, 1),\n",
    "    (1, 1),\n",
    "    (2, 1),\n",
    "    (3, 1),\n",
    "    (4, 1),\n",
    "    (5, 1),\n",
    "    (6, 1),\n",
    "    (0, 2),\n",
    "    (0, 3),\n",
    "    (0, 4),\n",
    "    (0, 5),\n",
    "    (3, 2),\n",
    "    (3, 3),\n",
    "    (3, 4),\n",
    "    (3, 5),\n",
    "]\n",
    "GOAL_2 = [\n",
    "    (0, 1),\n",
    "    (1, 1),\n",
    "    (2, 1),\n",
    "    (3, 1),\n",
    "    (4, 1),\n",
    "    (5, 1),\n",
    "    (6, 1),\n",
    "    (0, 2),\n",
    "    (0, 3),\n",
    "    (0, 4),\n",
    "    (0, 5),\n",
    "    (3, 2),\n",
    "    (3, 3),\n",
    "    (3, 4),\n",
    "    (3, 5),\n",
    "    (1, 5),\n",
    "    (2, 5),\n",
    "    (4, 2),\n",
    "    (5, 3),\n",
    "    (6, 4),\n",
    "]\n",
    "test_goal = Goal(7)\n",
    "#test_goal.goal(0)[3, 2] = 1\n",
    "for x in GOAL_0:\n",
    "    test_goal.goal(0)[x] = 1\n",
    "for x in GOAL_1:\n",
    "    test_goal.goal(1)[x] = 1\n",
    "for x in GOAL_2:\n",
    "    test_goal.goal(2)[x] = 1\n",
    "test_goal.fig()"
   ]
  },
  {
   "cell_type": "code",
   "execution_count": null,
   "id": "e33791d6-f9f2-49ab-9944-948175f270aa",
   "metadata": {},
   "outputs": [],
   "source": []
  },
  {
   "cell_type": "code",
   "execution_count": null,
   "id": "4c852488-2511-4fc8-bfb6-a6899d8e2fdb",
   "metadata": {},
   "outputs": [],
   "source": []
  }
 ],
 "metadata": {
  "kernelspec": {
   "display_name": "voxart",
   "language": "python",
   "name": "voxart"
  },
  "language_info": {
   "codemirror_mode": {
    "name": "ipython",
    "version": 3
   },
   "file_extension": ".py",
   "mimetype": "text/x-python",
   "name": "python",
   "nbconvert_exporter": "python",
   "pygments_lexer": "ipython3",
   "version": "3.9.15"
  }
 },
 "nbformat": 4,
 "nbformat_minor": 5
}
